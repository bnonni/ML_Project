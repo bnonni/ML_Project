{
 "cells": [
  {
   "cell_type": "markdown",
   "metadata": {},
   "source": [
    "## 1. Multi-Class Classification:\n",
    "For the multiclass classification problem, there were six different datasets. Some of the datasets contain missing values. For example, TrainData1, TestData1 and TrainData3 contain some missing values (1.00000000000000e+99). Therefore, the first approach needs to handle the missing values for selecting the features. Then compare the accuracy on train dataset to find out which classifier gives best result for each dataset with cross validation to verify the accuracy based on test dataset.\n",
    "<center><div style='width:50%; height:50%'><img src='../images/Q1_table.jpeg'></div></center>\n",
    "\n",
    "Hint:\n",
    "* Missing Value Estimation\n",
    "    - (KNN method for imputation of the missing values)\n",
    "* Dimensionality Reduction\n",
    "* Use Several Classifiers/ Ensemble Method\n",
    "    - Logistic Regression (with different c values)\n",
    "    - Random Forest (with different estimator values)\n",
    "    - SVM (with different kernels)\n",
    "    - KNN (with k = 1,2,5,10,20)\n",
    "    - K (3,5,10) Fold Cross Validation\n",
    "* Performance Comparison\n",
    "    - Classification Accuracy, Precision, Recall, Sensitivity, Specificity\n",
    "    - AUC, ROC Curve"
   ]
  },
  {
   "cell_type": "code",
   "execution_count": 2,
   "metadata": {},
   "outputs": [],
   "source": [
    "import warnings\n",
    "warnings.filterwarnings('ignore')\n",
    "\n",
    "# Python magic\n",
    "%matplotlib inline\n",
    "\n",
    "# Base packages\n",
    "import gc, sys, re, os\n",
    "from time import strptime, mktime\n",
    "\n",
    "# Data processing/preprocessing/modeling packages\n",
    "import numpy as np\n",
    "import pandas as pd\n",
    "import matplotlib.pyplot as plt\n",
    "from matplotlib import offsetbox\n",
    "\n",
    "np.random.seed(1)\n",
    "\n",
    "import seaborn as sns\n",
    "import statistics as stat\n",
    "from sklearn.preprocessing import *\n",
    "# Modeling settings\n",
    "plt.rc(\"font\", size=14)\n",
    "sns.set(style=\"white\")\n",
    "sns.set(style=\"whitegrid\", color_codes=True)\n",
    "\n",
    "# Testing & Validation packages\n",
    "from sklearn.model_selection import train_test_split, GridSearchCV\n",
    "from sklearn.metrics import confusion_matrix, classification_report, roc_curve, roc_auc_score, auc, accuracy_score\n",
    "from sklearn.multiclass import OneVsRestClassifier\n",
    "from sklearn.decomposition import PCA\n",
    "\n",
    "# SVM\n",
    "from sklearn.svm import *\n",
    "\n",
    "# KNN\n",
    "from sklearn.neighbors import KNeighborsClassifier\n",
    "from impyute.imputation.cs import fast_knn\n",
    "\n",
    "# Logistic Regression\n",
    "from sklearn.linear_model import LogisticRegression\n",
    "\n",
    "# Random Forest\n",
    "from sklearn.ensemble import RandomForestRegressor\n",
    "from sklearn.tree import export_graphviz\n",
    "from six import StringIO\n",
    "from IPython.display import Image\n",
    "from pydotplus import *\n",
    "\n",
    "# SVM\n",
    "from sklearn.svm import SVC, LinearSVC"
   ]
  },
  {
   "cell_type": "code",
   "execution_count": 3,
   "metadata": {},
   "outputs": [],
   "source": [
    "def optimizeK(X_train, y_train, X_test, y_test):\n",
    "    neighbors = np.arange(1,20)\n",
    "    train_accuracy = np.empty(len(neighbors))\n",
    "    test_accuracy = np.empty(len(neighbors))\n",
    "    \n",
    "    for i,k in enumerate(neighbors):\n",
    "\n",
    "        knn = KNeighborsClassifier(n_neighbors=k)\n",
    "\n",
    "        knn.fit(X_train, y_train)\n",
    "\n",
    "        train_accuracy[i] = knn.score(X_train, y_train)\n",
    "\n",
    "        test_accuracy[i] = knn.score(X_test, y_test2)\n",
    "        \n",
    "    return neighbors, test_accuracy, train_accuracy"
   ]
  },
  {
   "cell_type": "code",
   "execution_count": 4,
   "metadata": {},
   "outputs": [],
   "source": [
    "def plotK(neighbors, test_accuracy, train_accuracy):\n",
    "        plt.plot(neighbors, test_accuracy, label='Testing Accuracy')\n",
    "        plt.plot(neighbors, train_accuracy, label='Training Accuracy')\n",
    "        plt.legend()\n",
    "        plt.xlabel('Number of Neighbors')\n",
    "        plt.xticks(np.arange(0, neighbors[-1], step=1))\n",
    "        plt.ylabel('Accuracy')\n",
    "        plt.title('KNN Varying Number of Neighbors')\n",
    "        plt.show()"
   ]
  },
  {
   "cell_type": "code",
   "execution_count": 5,
   "metadata": {},
   "outputs": [],
   "source": [
    "X_train2 = pd.read_csv('../data/1/TrainData2.txt', delimiter='\\s+', header=None)\n",
    "X_train3 = pd.read_csv('../data/1/TrainData3.txt', delimiter='\\s+', header=None)\n",
    "X_train4 = pd.read_csv('../data/1/TrainData4.txt', delimiter='\\s+', header=None)"
   ]
  },
  {
   "cell_type": "code",
   "execution_count": 6,
   "metadata": {},
   "outputs": [],
   "source": [
    "y_train2 = pd.read_csv('../data/1/TrainLabel2.txt', delimiter='\\n', header=None)\n",
    "y_train3 = pd.read_csv('../data/1/TrainLabel3.txt', delimiter='\\n', header=None)\n",
    "y_train4 = pd.read_csv('../data/1/TrainLabel4.txt', delimiter='\\n', header=None)"
   ]
  },
  {
   "cell_type": "code",
   "execution_count": 7,
   "metadata": {},
   "outputs": [],
   "source": [
    "X_test2 = pd.read_csv('../data/1/TestData2.txt', delimiter='\\s+', header=None)\n",
    "X_test3 = pd.read_csv('../data/1/TestData3.txt', delimiter=',',   header=None)\n",
    "X_test4 = pd.read_csv('../data/1/TestData4.txt', delimiter='\\s+', header=None)"
   ]
  },
  {
   "cell_type": "code",
   "execution_count": 8,
   "metadata": {},
   "outputs": [],
   "source": [
    "X_training = [X_train2, X_train3, X_train4]\n",
    "y_training = [y_train2, y_train3, y_train4]\n",
    "X_testing = [X_test2, X_test3, X_test4]"
   ]
  },
  {
   "cell_type": "code",
   "execution_count": 9,
   "metadata": {},
   "outputs": [
    {
     "name": "stdout",
     "output_type": "stream",
     "text": [
      "X_TrainData1 Shape: (100, 9182)\n",
      "X_TrainData2 Shape: (6300, 13)\n",
      "X_TrainData3 Shape: (2547, 112)\n"
     ]
    }
   ],
   "source": [
    "for i,x in enumerate(X_training):\n",
    "    print(f'X_TrainData{i+1} Shape: {x.shape}')"
   ]
  },
  {
   "cell_type": "code",
   "execution_count": 10,
   "metadata": {},
   "outputs": [
    {
     "name": "stdout",
     "output_type": "stream",
     "text": [
      "y_TrainData1 Shape: (100, 1)\n",
      "y_TrainData2 Shape: (6300, 1)\n",
      "y_TrainData3 Shape: (2547, 1)\n"
     ]
    }
   ],
   "source": [
    "for i,y in enumerate(y_training):\n",
    "    print(f'y_TrainData{i+1} Shape: {y.shape}')"
   ]
  },
  {
   "cell_type": "code",
   "execution_count": 11,
   "metadata": {},
   "outputs": [
    {
     "name": "stdout",
     "output_type": "stream",
     "text": [
      "TestData1 Shape: (74, 9182)\n",
      "TestData2 Shape: (2693, 13)\n",
      "TestData3 Shape: (1092, 112)\n"
     ]
    }
   ],
   "source": [
    "for j,y in enumerate(X_testing):\n",
    "    print(f'TestData{j+1} Shape: {y.shape}')"
   ]
  },
  {
   "cell_type": "markdown",
   "metadata": {},
   "source": [
    "# _Dataset 2_"
   ]
  },
  {
   "cell_type": "markdown",
   "metadata": {},
   "source": [
    "### PCA for DS2"
   ]
  },
  {
   "cell_type": "code",
   "execution_count": 12,
   "metadata": {},
   "outputs": [
    {
     "data": {
      "text/plain": [
       "(100, 9182)"
      ]
     },
     "execution_count": 12,
     "metadata": {},
     "output_type": "execute_result"
    }
   ],
   "source": [
    "X_train2.shape"
   ]
  },
  {
   "cell_type": "code",
   "execution_count": 13,
   "metadata": {},
   "outputs": [
    {
     "data": {
      "text/plain": [
       "(100, 1)"
      ]
     },
     "execution_count": 13,
     "metadata": {},
     "output_type": "execute_result"
    }
   ],
   "source": [
    "y_train2.shape"
   ]
  },
  {
   "cell_type": "code",
   "execution_count": 14,
   "metadata": {},
   "outputs": [
    {
     "data": {
      "text/plain": [
       "(74, 9182)"
      ]
     },
     "execution_count": 14,
     "metadata": {},
     "output_type": "execute_result"
    }
   ],
   "source": [
    "X_test2.shape"
   ]
  },
  {
   "cell_type": "code",
   "execution_count": 15,
   "metadata": {},
   "outputs": [],
   "source": [
    "xTrain2PCA = PCA(n_components=74)\n",
    "X_train2_pca = xTrain2PCA.fit_transform(X_train2)"
   ]
  },
  {
   "cell_type": "code",
   "execution_count": 16,
   "metadata": {},
   "outputs": [
    {
     "name": "stdout",
     "output_type": "stream",
     "text": [
      "0.9287852222496773\n",
      "(100, 74)\n"
     ]
    }
   ],
   "source": [
    "# 100 principle components can explain 99% of the data\n",
    "\n",
    "X_train2_pca_var = xTrain2PCA.fit(X_train2)\n",
    "print(sum(X_train2_pca_var.explained_variance_ratio_))\n",
    "print(X_train2_pca.shape)"
   ]
  },
  {
   "cell_type": "code",
   "execution_count": 17,
   "metadata": {},
   "outputs": [],
   "source": [
    "# 74 principle components can explain 99% of the data\n",
    "xTest2PCA = PCA(n_components=74)\n",
    "X_test2_pca = xTest2PCA.fit_transform(X_test2)"
   ]
  },
  {
   "cell_type": "code",
   "execution_count": 18,
   "metadata": {},
   "outputs": [
    {
     "name": "stdout",
     "output_type": "stream",
     "text": [
      "1.0\n",
      "(74, 74)\n"
     ]
    }
   ],
   "source": [
    "X_test2_pca_var = xTest2PCA.fit(X_test2)\n",
    "print(sum(X_test2_pca_var.explained_variance_ratio_))\n",
    "print(X_test2_pca.shape)"
   ]
  },
  {
   "cell_type": "code",
   "execution_count": 19,
   "metadata": {},
   "outputs": [
    {
     "data": {
      "text/html": [
       "<div>\n",
       "<style scoped>\n",
       "    .dataframe tbody tr th:only-of-type {\n",
       "        vertical-align: middle;\n",
       "    }\n",
       "\n",
       "    .dataframe tbody tr th {\n",
       "        vertical-align: top;\n",
       "    }\n",
       "\n",
       "    .dataframe thead th {\n",
       "        text-align: right;\n",
       "    }\n",
       "</style>\n",
       "<table border=\"1\" class=\"dataframe\">\n",
       "  <thead>\n",
       "    <tr style=\"text-align: right;\">\n",
       "      <th></th>\n",
       "      <th>0</th>\n",
       "      <th>1</th>\n",
       "      <th>2</th>\n",
       "      <th>3</th>\n",
       "      <th>4</th>\n",
       "      <th>5</th>\n",
       "      <th>6</th>\n",
       "      <th>7</th>\n",
       "      <th>8</th>\n",
       "      <th>9</th>\n",
       "      <th>...</th>\n",
       "      <th>64</th>\n",
       "      <th>65</th>\n",
       "      <th>66</th>\n",
       "      <th>67</th>\n",
       "      <th>68</th>\n",
       "      <th>69</th>\n",
       "      <th>70</th>\n",
       "      <th>71</th>\n",
       "      <th>72</th>\n",
       "      <th>73</th>\n",
       "    </tr>\n",
       "  </thead>\n",
       "  <tbody>\n",
       "    <tr>\n",
       "      <th>0</th>\n",
       "      <td>-26.398235</td>\n",
       "      <td>-5.530790</td>\n",
       "      <td>13.539574</td>\n",
       "      <td>-3.261454</td>\n",
       "      <td>0.091592</td>\n",
       "      <td>1.422952</td>\n",
       "      <td>-2.226075</td>\n",
       "      <td>-2.378404</td>\n",
       "      <td>-0.173590</td>\n",
       "      <td>-0.229678</td>\n",
       "      <td>...</td>\n",
       "      <td>-1.330566</td>\n",
       "      <td>0.760020</td>\n",
       "      <td>0.411290</td>\n",
       "      <td>-3.154955</td>\n",
       "      <td>2.029205</td>\n",
       "      <td>0.371575</td>\n",
       "      <td>0.641591</td>\n",
       "      <td>-0.315040</td>\n",
       "      <td>-1.015912</td>\n",
       "      <td>-0.201491</td>\n",
       "    </tr>\n",
       "    <tr>\n",
       "      <th>1</th>\n",
       "      <td>-23.599232</td>\n",
       "      <td>-8.284542</td>\n",
       "      <td>14.064246</td>\n",
       "      <td>-1.687287</td>\n",
       "      <td>1.326062</td>\n",
       "      <td>4.722244</td>\n",
       "      <td>-1.644201</td>\n",
       "      <td>-2.860067</td>\n",
       "      <td>-2.502393</td>\n",
       "      <td>1.829240</td>\n",
       "      <td>...</td>\n",
       "      <td>-0.465511</td>\n",
       "      <td>1.127581</td>\n",
       "      <td>0.700681</td>\n",
       "      <td>-0.714230</td>\n",
       "      <td>1.360685</td>\n",
       "      <td>-1.327478</td>\n",
       "      <td>0.615863</td>\n",
       "      <td>-1.337370</td>\n",
       "      <td>1.129912</td>\n",
       "      <td>-0.601099</td>\n",
       "    </tr>\n",
       "    <tr>\n",
       "      <th>2</th>\n",
       "      <td>-15.135961</td>\n",
       "      <td>-7.972684</td>\n",
       "      <td>16.700653</td>\n",
       "      <td>-5.440529</td>\n",
       "      <td>3.488567</td>\n",
       "      <td>5.183090</td>\n",
       "      <td>-1.611984</td>\n",
       "      <td>-1.053902</td>\n",
       "      <td>0.417829</td>\n",
       "      <td>-1.267439</td>\n",
       "      <td>...</td>\n",
       "      <td>1.089887</td>\n",
       "      <td>-0.017774</td>\n",
       "      <td>-1.412615</td>\n",
       "      <td>0.434332</td>\n",
       "      <td>0.993812</td>\n",
       "      <td>0.538806</td>\n",
       "      <td>-0.410474</td>\n",
       "      <td>-0.676295</td>\n",
       "      <td>-1.678395</td>\n",
       "      <td>-0.167683</td>\n",
       "    </tr>\n",
       "    <tr>\n",
       "      <th>3</th>\n",
       "      <td>-18.103189</td>\n",
       "      <td>-5.975542</td>\n",
       "      <td>16.094560</td>\n",
       "      <td>-3.843836</td>\n",
       "      <td>2.276547</td>\n",
       "      <td>3.666287</td>\n",
       "      <td>-2.545452</td>\n",
       "      <td>-1.866662</td>\n",
       "      <td>-1.184474</td>\n",
       "      <td>-0.839445</td>\n",
       "      <td>...</td>\n",
       "      <td>0.183808</td>\n",
       "      <td>-1.128415</td>\n",
       "      <td>-1.607940</td>\n",
       "      <td>2.023086</td>\n",
       "      <td>-1.032967</td>\n",
       "      <td>3.239298</td>\n",
       "      <td>0.012201</td>\n",
       "      <td>0.195308</td>\n",
       "      <td>1.198384</td>\n",
       "      <td>-0.608230</td>\n",
       "    </tr>\n",
       "    <tr>\n",
       "      <th>4</th>\n",
       "      <td>-22.822826</td>\n",
       "      <td>-6.600625</td>\n",
       "      <td>9.438649</td>\n",
       "      <td>-4.610983</td>\n",
       "      <td>-1.248990</td>\n",
       "      <td>3.858556</td>\n",
       "      <td>-1.569932</td>\n",
       "      <td>-4.665742</td>\n",
       "      <td>0.619610</td>\n",
       "      <td>-1.132427</td>\n",
       "      <td>...</td>\n",
       "      <td>0.288800</td>\n",
       "      <td>-2.899142</td>\n",
       "      <td>0.410552</td>\n",
       "      <td>-0.469969</td>\n",
       "      <td>0.084135</td>\n",
       "      <td>-0.083044</td>\n",
       "      <td>0.480569</td>\n",
       "      <td>0.621397</td>\n",
       "      <td>-3.289133</td>\n",
       "      <td>2.460916</td>\n",
       "    </tr>\n",
       "    <tr>\n",
       "      <th>5</th>\n",
       "      <td>-18.592907</td>\n",
       "      <td>-7.772098</td>\n",
       "      <td>10.935275</td>\n",
       "      <td>-3.627123</td>\n",
       "      <td>0.250229</td>\n",
       "      <td>6.492181</td>\n",
       "      <td>0.789110</td>\n",
       "      <td>-3.185556</td>\n",
       "      <td>1.906020</td>\n",
       "      <td>-1.889865</td>\n",
       "      <td>...</td>\n",
       "      <td>2.394179</td>\n",
       "      <td>-2.192005</td>\n",
       "      <td>0.260057</td>\n",
       "      <td>3.041451</td>\n",
       "      <td>-3.959357</td>\n",
       "      <td>0.815341</td>\n",
       "      <td>0.147999</td>\n",
       "      <td>0.114778</td>\n",
       "      <td>-0.143002</td>\n",
       "      <td>-0.502871</td>\n",
       "    </tr>\n",
       "    <tr>\n",
       "      <th>6</th>\n",
       "      <td>-18.252123</td>\n",
       "      <td>-7.872843</td>\n",
       "      <td>10.589447</td>\n",
       "      <td>-4.421729</td>\n",
       "      <td>3.189031</td>\n",
       "      <td>3.490895</td>\n",
       "      <td>-0.284547</td>\n",
       "      <td>-0.683897</td>\n",
       "      <td>0.542263</td>\n",
       "      <td>1.135101</td>\n",
       "      <td>...</td>\n",
       "      <td>1.108318</td>\n",
       "      <td>-0.808098</td>\n",
       "      <td>-1.003234</td>\n",
       "      <td>-1.417343</td>\n",
       "      <td>-0.364829</td>\n",
       "      <td>0.577774</td>\n",
       "      <td>-0.299254</td>\n",
       "      <td>0.284120</td>\n",
       "      <td>1.352460</td>\n",
       "      <td>-1.211682</td>\n",
       "    </tr>\n",
       "    <tr>\n",
       "      <th>7</th>\n",
       "      <td>-17.599639</td>\n",
       "      <td>-10.100547</td>\n",
       "      <td>13.873913</td>\n",
       "      <td>-4.178510</td>\n",
       "      <td>2.441240</td>\n",
       "      <td>5.263544</td>\n",
       "      <td>-0.336828</td>\n",
       "      <td>-0.244063</td>\n",
       "      <td>1.713345</td>\n",
       "      <td>0.965288</td>\n",
       "      <td>...</td>\n",
       "      <td>-0.248227</td>\n",
       "      <td>1.212763</td>\n",
       "      <td>0.489692</td>\n",
       "      <td>-0.776411</td>\n",
       "      <td>0.792993</td>\n",
       "      <td>-2.843971</td>\n",
       "      <td>-0.387416</td>\n",
       "      <td>-1.098336</td>\n",
       "      <td>2.091966</td>\n",
       "      <td>0.773769</td>\n",
       "    </tr>\n",
       "    <tr>\n",
       "      <th>8</th>\n",
       "      <td>-24.282513</td>\n",
       "      <td>-6.514785</td>\n",
       "      <td>12.622519</td>\n",
       "      <td>-2.874137</td>\n",
       "      <td>1.605758</td>\n",
       "      <td>3.104993</td>\n",
       "      <td>-1.459444</td>\n",
       "      <td>-1.697107</td>\n",
       "      <td>-1.219725</td>\n",
       "      <td>0.893702</td>\n",
       "      <td>...</td>\n",
       "      <td>-1.289588</td>\n",
       "      <td>0.358682</td>\n",
       "      <td>-0.857802</td>\n",
       "      <td>-3.062720</td>\n",
       "      <td>1.946342</td>\n",
       "      <td>0.433660</td>\n",
       "      <td>-0.167877</td>\n",
       "      <td>0.506195</td>\n",
       "      <td>-0.429796</td>\n",
       "      <td>-0.813211</td>\n",
       "    </tr>\n",
       "    <tr>\n",
       "      <th>9</th>\n",
       "      <td>-19.073462</td>\n",
       "      <td>-6.858019</td>\n",
       "      <td>16.699833</td>\n",
       "      <td>-2.936940</td>\n",
       "      <td>2.511104</td>\n",
       "      <td>5.214212</td>\n",
       "      <td>-2.587564</td>\n",
       "      <td>-1.449672</td>\n",
       "      <td>3.503999</td>\n",
       "      <td>0.990876</td>\n",
       "      <td>...</td>\n",
       "      <td>-1.264628</td>\n",
       "      <td>1.998371</td>\n",
       "      <td>1.899509</td>\n",
       "      <td>3.334181</td>\n",
       "      <td>-1.994884</td>\n",
       "      <td>-1.104957</td>\n",
       "      <td>-0.736980</td>\n",
       "      <td>1.665473</td>\n",
       "      <td>0.542295</td>\n",
       "      <td>0.996836</td>\n",
       "    </tr>\n",
       "  </tbody>\n",
       "</table>\n",
       "<p>10 rows × 74 columns</p>\n",
       "</div>"
      ],
      "text/plain": [
       "          0          1          2         3         4         5         6   \\\n",
       "0 -26.398235  -5.530790  13.539574 -3.261454  0.091592  1.422952 -2.226075   \n",
       "1 -23.599232  -8.284542  14.064246 -1.687287  1.326062  4.722244 -1.644201   \n",
       "2 -15.135961  -7.972684  16.700653 -5.440529  3.488567  5.183090 -1.611984   \n",
       "3 -18.103189  -5.975542  16.094560 -3.843836  2.276547  3.666287 -2.545452   \n",
       "4 -22.822826  -6.600625   9.438649 -4.610983 -1.248990  3.858556 -1.569932   \n",
       "5 -18.592907  -7.772098  10.935275 -3.627123  0.250229  6.492181  0.789110   \n",
       "6 -18.252123  -7.872843  10.589447 -4.421729  3.189031  3.490895 -0.284547   \n",
       "7 -17.599639 -10.100547  13.873913 -4.178510  2.441240  5.263544 -0.336828   \n",
       "8 -24.282513  -6.514785  12.622519 -2.874137  1.605758  3.104993 -1.459444   \n",
       "9 -19.073462  -6.858019  16.699833 -2.936940  2.511104  5.214212 -2.587564   \n",
       "\n",
       "         7         8         9   ...        64        65        66        67  \\\n",
       "0 -2.378404 -0.173590 -0.229678  ... -1.330566  0.760020  0.411290 -3.154955   \n",
       "1 -2.860067 -2.502393  1.829240  ... -0.465511  1.127581  0.700681 -0.714230   \n",
       "2 -1.053902  0.417829 -1.267439  ...  1.089887 -0.017774 -1.412615  0.434332   \n",
       "3 -1.866662 -1.184474 -0.839445  ...  0.183808 -1.128415 -1.607940  2.023086   \n",
       "4 -4.665742  0.619610 -1.132427  ...  0.288800 -2.899142  0.410552 -0.469969   \n",
       "5 -3.185556  1.906020 -1.889865  ...  2.394179 -2.192005  0.260057  3.041451   \n",
       "6 -0.683897  0.542263  1.135101  ...  1.108318 -0.808098 -1.003234 -1.417343   \n",
       "7 -0.244063  1.713345  0.965288  ... -0.248227  1.212763  0.489692 -0.776411   \n",
       "8 -1.697107 -1.219725  0.893702  ... -1.289588  0.358682 -0.857802 -3.062720   \n",
       "9 -1.449672  3.503999  0.990876  ... -1.264628  1.998371  1.899509  3.334181   \n",
       "\n",
       "         68        69        70        71        72        73  \n",
       "0  2.029205  0.371575  0.641591 -0.315040 -1.015912 -0.201491  \n",
       "1  1.360685 -1.327478  0.615863 -1.337370  1.129912 -0.601099  \n",
       "2  0.993812  0.538806 -0.410474 -0.676295 -1.678395 -0.167683  \n",
       "3 -1.032967  3.239298  0.012201  0.195308  1.198384 -0.608230  \n",
       "4  0.084135 -0.083044  0.480569  0.621397 -3.289133  2.460916  \n",
       "5 -3.959357  0.815341  0.147999  0.114778 -0.143002 -0.502871  \n",
       "6 -0.364829  0.577774 -0.299254  0.284120  1.352460 -1.211682  \n",
       "7  0.792993 -2.843971 -0.387416 -1.098336  2.091966  0.773769  \n",
       "8  1.946342  0.433660 -0.167877  0.506195 -0.429796 -0.813211  \n",
       "9 -1.994884 -1.104957 -0.736980  1.665473  0.542295  0.996836  \n",
       "\n",
       "[10 rows x 74 columns]"
      ]
     },
     "execution_count": 19,
     "metadata": {},
     "output_type": "execute_result"
    }
   ],
   "source": [
    "X_train2_components = pd.DataFrame(X_train2_pca)\n",
    "X_train2_components.head(10)"
   ]
  },
  {
   "cell_type": "code",
   "execution_count": 20,
   "metadata": {},
   "outputs": [
    {
     "data": {
      "text/html": [
       "<div>\n",
       "<style scoped>\n",
       "    .dataframe tbody tr th:only-of-type {\n",
       "        vertical-align: middle;\n",
       "    }\n",
       "\n",
       "    .dataframe tbody tr th {\n",
       "        vertical-align: top;\n",
       "    }\n",
       "\n",
       "    .dataframe thead th {\n",
       "        text-align: right;\n",
       "    }\n",
       "</style>\n",
       "<table border=\"1\" class=\"dataframe\">\n",
       "  <thead>\n",
       "    <tr style=\"text-align: right;\">\n",
       "      <th></th>\n",
       "      <th>0</th>\n",
       "      <th>1</th>\n",
       "      <th>2</th>\n",
       "      <th>3</th>\n",
       "      <th>4</th>\n",
       "      <th>5</th>\n",
       "      <th>6</th>\n",
       "      <th>7</th>\n",
       "      <th>8</th>\n",
       "      <th>9</th>\n",
       "      <th>...</th>\n",
       "      <th>64</th>\n",
       "      <th>65</th>\n",
       "      <th>66</th>\n",
       "      <th>67</th>\n",
       "      <th>68</th>\n",
       "      <th>69</th>\n",
       "      <th>70</th>\n",
       "      <th>71</th>\n",
       "      <th>72</th>\n",
       "      <th>73</th>\n",
       "    </tr>\n",
       "  </thead>\n",
       "  <tbody>\n",
       "    <tr>\n",
       "      <th>0</th>\n",
       "      <td>-10.398547</td>\n",
       "      <td>2.226483</td>\n",
       "      <td>-0.658507</td>\n",
       "      <td>0.728649</td>\n",
       "      <td>-3.004981</td>\n",
       "      <td>-1.459457</td>\n",
       "      <td>11.538866</td>\n",
       "      <td>0.131821</td>\n",
       "      <td>-3.003679</td>\n",
       "      <td>8.534441</td>\n",
       "      <td>...</td>\n",
       "      <td>-0.018208</td>\n",
       "      <td>-0.591814</td>\n",
       "      <td>-0.158086</td>\n",
       "      <td>0.552216</td>\n",
       "      <td>0.711834</td>\n",
       "      <td>-0.246909</td>\n",
       "      <td>0.286311</td>\n",
       "      <td>0.049778</td>\n",
       "      <td>2.417375e-14</td>\n",
       "      <td>1.751869e-19</td>\n",
       "    </tr>\n",
       "    <tr>\n",
       "      <th>1</th>\n",
       "      <td>-9.148466</td>\n",
       "      <td>-1.053395</td>\n",
       "      <td>2.558946</td>\n",
       "      <td>6.409951</td>\n",
       "      <td>-1.139522</td>\n",
       "      <td>14.874160</td>\n",
       "      <td>12.840859</td>\n",
       "      <td>-1.954532</td>\n",
       "      <td>-1.438027</td>\n",
       "      <td>-3.864114</td>\n",
       "      <td>...</td>\n",
       "      <td>1.078071</td>\n",
       "      <td>2.187830</td>\n",
       "      <td>0.146664</td>\n",
       "      <td>-0.497945</td>\n",
       "      <td>0.557118</td>\n",
       "      <td>1.027339</td>\n",
       "      <td>-0.469129</td>\n",
       "      <td>-0.694673</td>\n",
       "      <td>2.417375e-14</td>\n",
       "      <td>1.751869e-19</td>\n",
       "    </tr>\n",
       "    <tr>\n",
       "      <th>2</th>\n",
       "      <td>-9.518250</td>\n",
       "      <td>8.940772</td>\n",
       "      <td>-7.869489</td>\n",
       "      <td>6.712257</td>\n",
       "      <td>5.851278</td>\n",
       "      <td>-4.459876</td>\n",
       "      <td>1.175211</td>\n",
       "      <td>9.256822</td>\n",
       "      <td>-2.179910</td>\n",
       "      <td>-2.784083</td>\n",
       "      <td>...</td>\n",
       "      <td>-0.775006</td>\n",
       "      <td>0.586132</td>\n",
       "      <td>0.017582</td>\n",
       "      <td>-0.994174</td>\n",
       "      <td>-0.862647</td>\n",
       "      <td>0.138018</td>\n",
       "      <td>-0.702943</td>\n",
       "      <td>-0.308250</td>\n",
       "      <td>2.417375e-14</td>\n",
       "      <td>1.751869e-19</td>\n",
       "    </tr>\n",
       "    <tr>\n",
       "      <th>3</th>\n",
       "      <td>-3.430898</td>\n",
       "      <td>4.484006</td>\n",
       "      <td>8.917650</td>\n",
       "      <td>-5.211835</td>\n",
       "      <td>3.051420</td>\n",
       "      <td>-7.458819</td>\n",
       "      <td>8.400516</td>\n",
       "      <td>-2.596811</td>\n",
       "      <td>-6.939696</td>\n",
       "      <td>2.710260</td>\n",
       "      <td>...</td>\n",
       "      <td>0.501017</td>\n",
       "      <td>-0.003214</td>\n",
       "      <td>-0.102685</td>\n",
       "      <td>0.572909</td>\n",
       "      <td>-0.200991</td>\n",
       "      <td>-0.957525</td>\n",
       "      <td>-0.212132</td>\n",
       "      <td>-0.013422</td>\n",
       "      <td>2.417375e-14</td>\n",
       "      <td>1.751869e-19</td>\n",
       "    </tr>\n",
       "    <tr>\n",
       "      <th>4</th>\n",
       "      <td>-1.953057</td>\n",
       "      <td>-10.889354</td>\n",
       "      <td>-4.247043</td>\n",
       "      <td>-4.255280</td>\n",
       "      <td>8.396341</td>\n",
       "      <td>-4.124702</td>\n",
       "      <td>1.326687</td>\n",
       "      <td>3.342917</td>\n",
       "      <td>-1.886089</td>\n",
       "      <td>-0.442950</td>\n",
       "      <td>...</td>\n",
       "      <td>-4.006541</td>\n",
       "      <td>1.502856</td>\n",
       "      <td>0.414789</td>\n",
       "      <td>0.816762</td>\n",
       "      <td>0.849764</td>\n",
       "      <td>-0.002994</td>\n",
       "      <td>-0.217039</td>\n",
       "      <td>0.212119</td>\n",
       "      <td>2.417375e-14</td>\n",
       "      <td>1.751869e-19</td>\n",
       "    </tr>\n",
       "    <tr>\n",
       "      <th>5</th>\n",
       "      <td>-9.114472</td>\n",
       "      <td>30.661399</td>\n",
       "      <td>-16.602591</td>\n",
       "      <td>-13.681703</td>\n",
       "      <td>2.121322</td>\n",
       "      <td>-3.888211</td>\n",
       "      <td>14.515758</td>\n",
       "      <td>-0.522400</td>\n",
       "      <td>15.452621</td>\n",
       "      <td>2.824357</td>\n",
       "      <td>...</td>\n",
       "      <td>-0.026268</td>\n",
       "      <td>0.064399</td>\n",
       "      <td>0.062601</td>\n",
       "      <td>0.329610</td>\n",
       "      <td>-0.000407</td>\n",
       "      <td>-0.151348</td>\n",
       "      <td>0.321557</td>\n",
       "      <td>0.058960</td>\n",
       "      <td>2.417375e-14</td>\n",
       "      <td>1.751869e-19</td>\n",
       "    </tr>\n",
       "    <tr>\n",
       "      <th>6</th>\n",
       "      <td>-4.265600</td>\n",
       "      <td>-12.394460</td>\n",
       "      <td>-0.936758</td>\n",
       "      <td>-0.831384</td>\n",
       "      <td>3.428773</td>\n",
       "      <td>2.155973</td>\n",
       "      <td>1.140246</td>\n",
       "      <td>-5.377360</td>\n",
       "      <td>1.021447</td>\n",
       "      <td>9.118232</td>\n",
       "      <td>...</td>\n",
       "      <td>-0.159312</td>\n",
       "      <td>1.469154</td>\n",
       "      <td>-1.448169</td>\n",
       "      <td>-1.886565</td>\n",
       "      <td>1.829980</td>\n",
       "      <td>-0.307286</td>\n",
       "      <td>-0.105608</td>\n",
       "      <td>-0.261595</td>\n",
       "      <td>2.417375e-14</td>\n",
       "      <td>1.751869e-19</td>\n",
       "    </tr>\n",
       "    <tr>\n",
       "      <th>7</th>\n",
       "      <td>-4.660430</td>\n",
       "      <td>-10.362650</td>\n",
       "      <td>-4.043087</td>\n",
       "      <td>-3.373387</td>\n",
       "      <td>3.434039</td>\n",
       "      <td>2.838975</td>\n",
       "      <td>-0.694445</td>\n",
       "      <td>4.525555</td>\n",
       "      <td>1.816828</td>\n",
       "      <td>2.884826</td>\n",
       "      <td>...</td>\n",
       "      <td>-1.118630</td>\n",
       "      <td>-1.292512</td>\n",
       "      <td>2.199333</td>\n",
       "      <td>0.609899</td>\n",
       "      <td>-2.353852</td>\n",
       "      <td>1.178842</td>\n",
       "      <td>-0.321623</td>\n",
       "      <td>0.223460</td>\n",
       "      <td>2.417375e-14</td>\n",
       "      <td>1.751869e-19</td>\n",
       "    </tr>\n",
       "    <tr>\n",
       "      <th>8</th>\n",
       "      <td>-3.686264</td>\n",
       "      <td>2.464987</td>\n",
       "      <td>-0.372169</td>\n",
       "      <td>-5.940278</td>\n",
       "      <td>-0.656506</td>\n",
       "      <td>-5.937303</td>\n",
       "      <td>1.116711</td>\n",
       "      <td>3.091034</td>\n",
       "      <td>-2.422265</td>\n",
       "      <td>-0.681678</td>\n",
       "      <td>...</td>\n",
       "      <td>-0.262838</td>\n",
       "      <td>-0.473030</td>\n",
       "      <td>-0.149251</td>\n",
       "      <td>0.003186</td>\n",
       "      <td>-0.580069</td>\n",
       "      <td>0.571946</td>\n",
       "      <td>0.236134</td>\n",
       "      <td>-0.023115</td>\n",
       "      <td>2.417375e-14</td>\n",
       "      <td>1.751869e-19</td>\n",
       "    </tr>\n",
       "    <tr>\n",
       "      <th>9</th>\n",
       "      <td>-21.698063</td>\n",
       "      <td>33.851093</td>\n",
       "      <td>-19.187314</td>\n",
       "      <td>-7.433600</td>\n",
       "      <td>-4.502362</td>\n",
       "      <td>2.815571</td>\n",
       "      <td>-4.050009</td>\n",
       "      <td>-3.314655</td>\n",
       "      <td>-14.344385</td>\n",
       "      <td>9.912675</td>\n",
       "      <td>...</td>\n",
       "      <td>0.587508</td>\n",
       "      <td>0.378001</td>\n",
       "      <td>-0.159303</td>\n",
       "      <td>0.175027</td>\n",
       "      <td>0.189138</td>\n",
       "      <td>-0.023102</td>\n",
       "      <td>0.254395</td>\n",
       "      <td>-0.091289</td>\n",
       "      <td>2.417375e-14</td>\n",
       "      <td>1.751869e-19</td>\n",
       "    </tr>\n",
       "  </tbody>\n",
       "</table>\n",
       "<p>10 rows × 74 columns</p>\n",
       "</div>"
      ],
      "text/plain": [
       "          0          1          2          3         4          5          6   \\\n",
       "0 -10.398547   2.226483  -0.658507   0.728649 -3.004981  -1.459457  11.538866   \n",
       "1  -9.148466  -1.053395   2.558946   6.409951 -1.139522  14.874160  12.840859   \n",
       "2  -9.518250   8.940772  -7.869489   6.712257  5.851278  -4.459876   1.175211   \n",
       "3  -3.430898   4.484006   8.917650  -5.211835  3.051420  -7.458819   8.400516   \n",
       "4  -1.953057 -10.889354  -4.247043  -4.255280  8.396341  -4.124702   1.326687   \n",
       "5  -9.114472  30.661399 -16.602591 -13.681703  2.121322  -3.888211  14.515758   \n",
       "6  -4.265600 -12.394460  -0.936758  -0.831384  3.428773   2.155973   1.140246   \n",
       "7  -4.660430 -10.362650  -4.043087  -3.373387  3.434039   2.838975  -0.694445   \n",
       "8  -3.686264   2.464987  -0.372169  -5.940278 -0.656506  -5.937303   1.116711   \n",
       "9 -21.698063  33.851093 -19.187314  -7.433600 -4.502362   2.815571  -4.050009   \n",
       "\n",
       "         7          8         9   ...        64        65        66        67  \\\n",
       "0  0.131821  -3.003679  8.534441  ... -0.018208 -0.591814 -0.158086  0.552216   \n",
       "1 -1.954532  -1.438027 -3.864114  ...  1.078071  2.187830  0.146664 -0.497945   \n",
       "2  9.256822  -2.179910 -2.784083  ... -0.775006  0.586132  0.017582 -0.994174   \n",
       "3 -2.596811  -6.939696  2.710260  ...  0.501017 -0.003214 -0.102685  0.572909   \n",
       "4  3.342917  -1.886089 -0.442950  ... -4.006541  1.502856  0.414789  0.816762   \n",
       "5 -0.522400  15.452621  2.824357  ... -0.026268  0.064399  0.062601  0.329610   \n",
       "6 -5.377360   1.021447  9.118232  ... -0.159312  1.469154 -1.448169 -1.886565   \n",
       "7  4.525555   1.816828  2.884826  ... -1.118630 -1.292512  2.199333  0.609899   \n",
       "8  3.091034  -2.422265 -0.681678  ... -0.262838 -0.473030 -0.149251  0.003186   \n",
       "9 -3.314655 -14.344385  9.912675  ...  0.587508  0.378001 -0.159303  0.175027   \n",
       "\n",
       "         68        69        70        71            72            73  \n",
       "0  0.711834 -0.246909  0.286311  0.049778  2.417375e-14  1.751869e-19  \n",
       "1  0.557118  1.027339 -0.469129 -0.694673  2.417375e-14  1.751869e-19  \n",
       "2 -0.862647  0.138018 -0.702943 -0.308250  2.417375e-14  1.751869e-19  \n",
       "3 -0.200991 -0.957525 -0.212132 -0.013422  2.417375e-14  1.751869e-19  \n",
       "4  0.849764 -0.002994 -0.217039  0.212119  2.417375e-14  1.751869e-19  \n",
       "5 -0.000407 -0.151348  0.321557  0.058960  2.417375e-14  1.751869e-19  \n",
       "6  1.829980 -0.307286 -0.105608 -0.261595  2.417375e-14  1.751869e-19  \n",
       "7 -2.353852  1.178842 -0.321623  0.223460  2.417375e-14  1.751869e-19  \n",
       "8 -0.580069  0.571946  0.236134 -0.023115  2.417375e-14  1.751869e-19  \n",
       "9  0.189138 -0.023102  0.254395 -0.091289  2.417375e-14  1.751869e-19  \n",
       "\n",
       "[10 rows x 74 columns]"
      ]
     },
     "execution_count": 20,
     "metadata": {},
     "output_type": "execute_result"
    }
   ],
   "source": [
    "X_test2_components = pd.DataFrame(X_test2_pca)\n",
    "X_test2_components.head(10)"
   ]
  },
  {
   "cell_type": "code",
   "execution_count": 21,
   "metadata": {},
   "outputs": [
    {
     "data": {
      "text/plain": [
       "(100, 74)"
      ]
     },
     "execution_count": 21,
     "metadata": {},
     "output_type": "execute_result"
    }
   ],
   "source": [
    "X_train2_components.shape"
   ]
  },
  {
   "cell_type": "code",
   "execution_count": 22,
   "metadata": {},
   "outputs": [
    {
     "data": {
      "text/plain": [
       "(100, 1)"
      ]
     },
     "execution_count": 22,
     "metadata": {},
     "output_type": "execute_result"
    }
   ],
   "source": [
    "y_train2.shape"
   ]
  },
  {
   "cell_type": "code",
   "execution_count": 23,
   "metadata": {},
   "outputs": [
    {
     "data": {
      "text/plain": [
       "(74, 74)"
      ]
     },
     "execution_count": 23,
     "metadata": {},
     "output_type": "execute_result"
    }
   ],
   "source": [
    "X_test2_components.shape"
   ]
  },
  {
   "cell_type": "markdown",
   "metadata": {},
   "source": [
    "### KNN for DS2"
   ]
  },
  {
   "cell_type": "code",
   "execution_count": 24,
   "metadata": {},
   "outputs": [
    {
     "name": "stdout",
     "output_type": "stream",
     "text": [
      "[ 9  1  6  4  6  5  6  6  8 11  3  1  3  3  1  4  6  4  6  1  1  8  1  1\n",
      "  1  1  1  1  1  1  5  1  6  1  4  4  6  8  6  6  6  6  6  8  6  9  4  4\n",
      "  4  4  4  4  4  4  4  4  4  4  4  3  6  6  6  6  6  8  6  6  6  6  6  8\n",
      "  2  6]\n"
     ]
    }
   ],
   "source": [
    "# KNN to obtain y_test1 values\n",
    "\n",
    "knn = KNeighborsClassifier(n_neighbors=5)\n",
    "\n",
    "knn = knn.fit(X_train2_components, y_train2)\n",
    "y_test2_pred = knn.predict(X_test2_components)\n",
    "print(y_test2_pred)"
   ]
  },
  {
   "cell_type": "code",
   "execution_count": 25,
   "metadata": {},
   "outputs": [],
   "source": [
    "y_test2 = y_test2_pred"
   ]
  },
  {
   "cell_type": "code",
   "execution_count": 26,
   "metadata": {},
   "outputs": [
    {
     "data": {
      "text/plain": [
       "array([ 9,  1,  6,  4,  6,  5,  6,  6,  8, 11,  3,  1,  3,  3,  1,  4,  6,\n",
       "        4,  6,  1,  1,  8,  1,  1,  1,  1,  1,  1,  1,  1,  5,  1,  6,  1,\n",
       "        4,  4,  6,  8,  6,  6,  6,  6,  6,  8,  6,  9,  4,  4,  4,  4,  4,\n",
       "        4,  4,  4,  4,  4,  4,  4,  4,  3,  6,  6,  6,  6,  6,  8,  6,  6,\n",
       "        6,  6,  6,  8,  2,  6])"
      ]
     },
     "execution_count": 26,
     "metadata": {},
     "output_type": "execute_result"
    }
   ],
   "source": [
    "y_test2"
   ]
  },
  {
   "cell_type": "code",
   "execution_count": 27,
   "metadata": {},
   "outputs": [
    {
     "data": {
      "image/png": "[encoded data removed]",
      "text/plain": [
       "<Figure size 432x288 with 1 Axes>"
      ]
     },
     "metadata": {
      "needs_background": "light"
     },
     "output_type": "display_data"
    }
   ],
   "source": [
    "n, test_acc, train_acc = optimizeK(X_train2_components, y_train2, X_test2_components, y_test2)\n",
    "plotK(n, test_acc, train_acc)"
   ]
  },
  {
   "cell_type": "code",
   "execution_count": 28,
   "metadata": {},
   "outputs": [
    {
     "data": {
      "text/plain": [
       "KNeighborsClassifier(algorithm='auto', leaf_size=30, metric='minkowski',\n",
       "                     metric_params=None, n_jobs=None, n_neighbors=3, p=2,\n",
       "                     weights='uniform')"
      ]
     },
     "execution_count": 28,
     "metadata": {},
     "output_type": "execute_result"
    }
   ],
   "source": [
    "n_neighbors=3\n",
    "knn = KNeighborsClassifier(n_neighbors)\n",
    "knn.fit(X_train2_components, y_train2)"
   ]
  },
  {
   "cell_type": "code",
   "execution_count": 29,
   "metadata": {},
   "outputs": [
    {
     "data": {
      "text/plain": [
       "0.8918918918918919"
      ]
     },
     "execution_count": 29,
     "metadata": {},
     "output_type": "execute_result"
    }
   ],
   "source": [
    "knn.score(X_test2_components, y_test2)"
   ]
  },
  {
   "cell_type": "code",
   "execution_count": 30,
   "metadata": {},
   "outputs": [
    {
     "name": "stdout",
     "output_type": "stream",
     "text": [
      "[[13  0  0  1  0  0  0  0  1]\n",
      " [ 0  1  0  0  0  0  0  0  0]\n",
      " [ 0  0  4  0  0  0  0  0  0]\n",
      " [ 1  0  0 17  0  0  0  0  0]\n",
      " [ 0  0  0  1  1  0  0  0  0]\n",
      " [ 0  1  0  0  0 23  0  1  0]\n",
      " [ 1  0  0  0  0  0  5  0  0]\n",
      " [ 0  1  0  0  0  0  0  1  0]\n",
      " [ 0  0  0  0  0  0  0  0  1]]\n"
     ]
    }
   ],
   "source": [
    "knn_y_pred = knn.predict(X_test2_components)\n",
    "knn_cm = confusion_matrix(y_test2, knn_y_pred)\n",
    "print(knn_cm)"
   ]
  },
  {
   "cell_type": "code",
   "execution_count": 31,
   "metadata": {},
   "outputs": [
    {
     "data": {
      "text/html": [
       "<div>\n",
       "<style scoped>\n",
       "    .dataframe tbody tr th:only-of-type {\n",
       "        vertical-align: middle;\n",
       "    }\n",
       "\n",
       "    .dataframe tbody tr th {\n",
       "        vertical-align: top;\n",
       "    }\n",
       "\n",
       "    .dataframe thead th {\n",
       "        text-align: right;\n",
       "    }\n",
       "</style>\n",
       "<table border=\"1\" class=\"dataframe\">\n",
       "  <thead>\n",
       "    <tr style=\"text-align: right;\">\n",
       "      <th>Predicted</th>\n",
       "      <th>1</th>\n",
       "      <th>2</th>\n",
       "      <th>3</th>\n",
       "      <th>4</th>\n",
       "      <th>5</th>\n",
       "      <th>6</th>\n",
       "      <th>8</th>\n",
       "      <th>9</th>\n",
       "      <th>11</th>\n",
       "      <th>All</th>\n",
       "    </tr>\n",
       "    <tr>\n",
       "      <th>True</th>\n",
       "      <th></th>\n",
       "      <th></th>\n",
       "      <th></th>\n",
       "      <th></th>\n",
       "      <th></th>\n",
       "      <th></th>\n",
       "      <th></th>\n",
       "      <th></th>\n",
       "      <th></th>\n",
       "      <th></th>\n",
       "    </tr>\n",
       "  </thead>\n",
       "  <tbody>\n",
       "    <tr>\n",
       "      <th>1</th>\n",
       "      <td>13</td>\n",
       "      <td>0</td>\n",
       "      <td>0</td>\n",
       "      <td>1</td>\n",
       "      <td>0</td>\n",
       "      <td>0</td>\n",
       "      <td>0</td>\n",
       "      <td>0</td>\n",
       "      <td>1</td>\n",
       "      <td>15</td>\n",
       "    </tr>\n",
       "    <tr>\n",
       "      <th>2</th>\n",
       "      <td>0</td>\n",
       "      <td>1</td>\n",
       "      <td>0</td>\n",
       "      <td>0</td>\n",
       "      <td>0</td>\n",
       "      <td>0</td>\n",
       "      <td>0</td>\n",
       "      <td>0</td>\n",
       "      <td>0</td>\n",
       "      <td>1</td>\n",
       "    </tr>\n",
       "    <tr>\n",
       "      <th>3</th>\n",
       "      <td>0</td>\n",
       "      <td>0</td>\n",
       "      <td>4</td>\n",
       "      <td>0</td>\n",
       "      <td>0</td>\n",
       "      <td>0</td>\n",
       "      <td>0</td>\n",
       "      <td>0</td>\n",
       "      <td>0</td>\n",
       "      <td>4</td>\n",
       "    </tr>\n",
       "    <tr>\n",
       "      <th>4</th>\n",
       "      <td>1</td>\n",
       "      <td>0</td>\n",
       "      <td>0</td>\n",
       "      <td>17</td>\n",
       "      <td>0</td>\n",
       "      <td>0</td>\n",
       "      <td>0</td>\n",
       "      <td>0</td>\n",
       "      <td>0</td>\n",
       "      <td>18</td>\n",
       "    </tr>\n",
       "    <tr>\n",
       "      <th>5</th>\n",
       "      <td>0</td>\n",
       "      <td>0</td>\n",
       "      <td>0</td>\n",
       "      <td>1</td>\n",
       "      <td>1</td>\n",
       "      <td>0</td>\n",
       "      <td>0</td>\n",
       "      <td>0</td>\n",
       "      <td>0</td>\n",
       "      <td>2</td>\n",
       "    </tr>\n",
       "    <tr>\n",
       "      <th>6</th>\n",
       "      <td>0</td>\n",
       "      <td>1</td>\n",
       "      <td>0</td>\n",
       "      <td>0</td>\n",
       "      <td>0</td>\n",
       "      <td>23</td>\n",
       "      <td>0</td>\n",
       "      <td>1</td>\n",
       "      <td>0</td>\n",
       "      <td>25</td>\n",
       "    </tr>\n",
       "    <tr>\n",
       "      <th>8</th>\n",
       "      <td>1</td>\n",
       "      <td>0</td>\n",
       "      <td>0</td>\n",
       "      <td>0</td>\n",
       "      <td>0</td>\n",
       "      <td>0</td>\n",
       "      <td>5</td>\n",
       "      <td>0</td>\n",
       "      <td>0</td>\n",
       "      <td>6</td>\n",
       "    </tr>\n",
       "    <tr>\n",
       "      <th>9</th>\n",
       "      <td>0</td>\n",
       "      <td>1</td>\n",
       "      <td>0</td>\n",
       "      <td>0</td>\n",
       "      <td>0</td>\n",
       "      <td>0</td>\n",
       "      <td>0</td>\n",
       "      <td>1</td>\n",
       "      <td>0</td>\n",
       "      <td>2</td>\n",
       "    </tr>\n",
       "    <tr>\n",
       "      <th>11</th>\n",
       "      <td>0</td>\n",
       "      <td>0</td>\n",
       "      <td>0</td>\n",
       "      <td>0</td>\n",
       "      <td>0</td>\n",
       "      <td>0</td>\n",
       "      <td>0</td>\n",
       "      <td>0</td>\n",
       "      <td>1</td>\n",
       "      <td>1</td>\n",
       "    </tr>\n",
       "    <tr>\n",
       "      <th>All</th>\n",
       "      <td>15</td>\n",
       "      <td>3</td>\n",
       "      <td>4</td>\n",
       "      <td>19</td>\n",
       "      <td>1</td>\n",
       "      <td>23</td>\n",
       "      <td>5</td>\n",
       "      <td>2</td>\n",
       "      <td>2</td>\n",
       "      <td>74</td>\n",
       "    </tr>\n",
       "  </tbody>\n",
       "</table>\n",
       "</div>"
      ],
      "text/plain": [
       "Predicted   1  2  3   4  5   6  8  9  11  All\n",
       "True                                         \n",
       "1          13  0  0   1  0   0  0  0   1   15\n",
       "2           0  1  0   0  0   0  0  0   0    1\n",
       "3           0  0  4   0  0   0  0  0   0    4\n",
       "4           1  0  0  17  0   0  0  0   0   18\n",
       "5           0  0  0   1  1   0  0  0   0    2\n",
       "6           0  1  0   0  0  23  0  1   0   25\n",
       "8           1  0  0   0  0   0  5  0   0    6\n",
       "9           0  1  0   0  0   0  0  1   0    2\n",
       "11          0  0  0   0  0   0  0  0   1    1\n",
       "All        15  3  4  19  1  23  5  2   2   74"
      ]
     },
     "execution_count": 31,
     "metadata": {},
     "output_type": "execute_result"
    }
   ],
   "source": [
    "pd.crosstab(y_test2, knn_y_pred, rownames=['True'], colnames=['Predicted'], margins=True)"
   ]
  },
  {
   "cell_type": "code",
   "execution_count": 32,
   "metadata": {},
   "outputs": [
    {
     "name": "stdout",
     "output_type": "stream",
     "text": [
      "              precision    recall  f1-score   support\n",
      "\n",
      "           1       0.87      0.87      0.87        15\n",
      "           2       0.33      1.00      0.50         1\n",
      "           3       1.00      1.00      1.00         4\n",
      "           4       0.89      0.94      0.92        18\n",
      "           5       1.00      0.50      0.67         2\n",
      "           6       1.00      0.92      0.96        25\n",
      "           8       1.00      0.83      0.91         6\n",
      "           9       0.50      0.50      0.50         2\n",
      "          11       0.50      1.00      0.67         1\n",
      "\n",
      "    accuracy                           0.89        74\n",
      "   macro avg       0.79      0.84      0.78        74\n",
      "weighted avg       0.92      0.89      0.90        74\n",
      "\n"
     ]
    }
   ],
   "source": [
    "knn_cr = classification_report(y_test2, knn_y_pred)\n",
    "print(knn_cr)"
   ]
  },
  {
   "cell_type": "code",
   "execution_count": 33,
   "metadata": {},
   "outputs": [],
   "source": [
    "def multiclass_roc_auc_score(y_test, y_pred, average=\"macro\"):\n",
    "    lb = LabelBinarizer()\n",
    "    lb.fit(y_test)\n",
    "    y_test = lb.transform(y_test)\n",
    "    y_pred = lb.transform(y_pred)\n",
    "    return roc_auc_score(y_test, y_pred, average=average)"
   ]
  },
  {
   "cell_type": "code",
   "execution_count": 34,
   "metadata": {},
   "outputs": [
    {
     "data": {
      "text/plain": [
       "0.9133248374636425"
      ]
     },
     "execution_count": 34,
     "metadata": {},
     "output_type": "execute_result"
    }
   ],
   "source": [
    "multiclass_roc_auc_score(y_test2, knn_y_pred)"
   ]
  },
  {
   "cell_type": "code",
   "execution_count": 40,
   "metadata": {},
   "outputs": [],
   "source": [
    "y_bin = label_binarize(y_test2, classes=[1,2,3,4,5,6,7,8,9,10,11])\n",
    "n_classes = 11"
   ]
  },
  {
   "cell_type": "code",
   "execution_count": 41,
   "metadata": {},
   "outputs": [],
   "source": [
    "clf = OneVsRestClassifier(LinearSVC(random_state=0))\n",
    "y_score = clf.fit(X_train2_components, y_train2).decision_function(X_test2_components)"
   ]
  },
  {
   "cell_type": "code",
   "execution_count": 68,
   "metadata": {},
   "outputs": [
    {
     "data": {
      "text/plain": [
       "0.75"
      ]
     },
     "execution_count": 68,
     "metadata": {},
     "output_type": "execute_result"
    }
   ],
   "source": []
  },
  {
   "cell_type": "code",
   "execution_count": null,
   "metadata": {},
   "outputs": [],
   "source": []
  },
  {
   "cell_type": "code",
   "execution_count": 44,
   "metadata": {},
   "outputs": [
    {
     "name": "stdout",
     "output_type": "stream",
     "text": [
      "(array([0.        , 0.        , 0.        , 0.01694915, 0.01694915,\n",
      "       0.03389831, 0.03389831, 0.06779661, 0.06779661, 0.08474576,\n",
      "       0.08474576, 0.25423729, 0.25423729, 1.        ]), array([0.        , 0.06666667, 0.66666667, 0.66666667, 0.73333333,\n",
      "       0.73333333, 0.8       , 0.8       , 0.86666667, 0.86666667,\n",
      "       0.93333333, 0.93333333, 1.        , 1.        ]), array([ 6.05555048,  5.05555048,  3.19016263,  3.16593999,  3.13239329,\n",
      "        2.61617462,  2.47458413,  2.11368399,  2.02139464,  1.92753182,\n",
      "        1.71422743,  1.04279652,  0.95042726, -5.06611508]))\n",
      "0.9694915254237289\n",
      "\n",
      "(array([0.        , 0.01369863, 0.02739726, 0.02739726, 1.        ]), array([0., 0., 0., 1., 1.]), array([ 4.58522024,  3.58522024,  3.43956427,  3.33984347, -7.34053488]))\n",
      "0.9726027397260274\n",
      "\n",
      "(array([0.        , 0.        , 0.        , 0.05714286, 0.05714286,\n",
      "       0.34285714, 0.34285714, 1.        ]), array([0.  , 0.25, 0.5 , 0.5 , 0.75, 0.75, 1.  , 1.  ]), array([ 5.53952267,  4.53952267,  4.53952267,  2.36405992,  2.35602649,\n",
      "        0.28846558,  0.21899396, -6.30195915]))\n",
      "0.9\n",
      "\n",
      "(array([0.        , 0.01785714, 0.01785714, 0.03571429, 0.03571429,\n",
      "       0.05357143, 0.05357143, 0.10714286, 0.10714286, 0.125     ,\n",
      "       0.125     , 0.17857143, 0.17857143, 0.19642857, 0.19642857,\n",
      "       0.33928571, 0.33928571, 1.        ]), array([0.        , 0.        , 0.11111111, 0.11111111, 0.27777778,\n",
      "       0.27777778, 0.38888889, 0.38888889, 0.61111111, 0.61111111,\n",
      "       0.77777778, 0.77777778, 0.88888889, 0.88888889, 0.94444444,\n",
      "       0.94444444, 1.        , 1.        ]), array([ 5.03113215,  4.03113215,  2.66844716,  2.56119364,  2.21920765,\n",
      "        2.21029247,  1.57623725,  1.4361554 ,  1.26475699,  1.25091847,\n",
      "        1.15935795,  0.76087695,  0.67631564,  0.653682  ,  0.64145098,\n",
      "       -0.01346248, -0.08543873, -6.56822834]))\n",
      "0.8918650793650793\n",
      "\n",
      "(array([0., 0., 0., 1.]), array([0. , 0.5, 1. , 1. ]), array([ 7.4410064 ,  6.4410064 ,  5.08543282, -5.63138769]))\n",
      "1.0\n",
      "\n",
      "(array([0.        , 0.        , 0.        , 0.02040816, 0.02040816,\n",
      "       0.04081633, 0.04081633, 0.08163265, 0.08163265, 0.12244898,\n",
      "       0.12244898, 0.14285714, 0.14285714, 0.20408163, 0.20408163,\n",
      "       1.        ]), array([0.  , 0.04, 0.28, 0.28, 0.36, 0.36, 0.8 , 0.8 , 0.88, 0.88, 0.92,\n",
      "       0.92, 0.96, 0.96, 1.  , 1.  ]), array([ 5.33391495,  4.33391495,  3.1562813 ,  2.76968794,  2.54494568,\n",
      "        2.54403538,  1.42152689,  1.31298989,  1.02793323,  0.76559327,\n",
      "        0.6122605 ,  0.45011947,  0.3898514 ,  0.20832461,  0.06568637,\n",
      "       -5.05408635]))\n",
      "0.9551020408163265\n",
      "\n",
      "(array([0.        , 0.01351351, 1.        ]), array([nan, nan, nan]), array([  5.44426491,   4.44426491, -11.27628522]))\n",
      "nan\n",
      "\n",
      "(array([0.        , 0.        , 0.        , 0.05882353, 0.05882353,\n",
      "       0.08823529, 0.08823529, 0.10294118, 0.10294118, 1.        ]), array([0.        , 0.16666667, 0.5       , 0.5       , 0.66666667,\n",
      "       0.66666667, 0.83333333, 0.83333333, 1.        , 1.        ]), array([ 4.82591885,  3.82591885,  3.18297686,  2.82638265,  2.10789802,\n",
      "        1.8821766 ,  1.81617792,  1.65542599,  1.50526897, -5.36001202]))\n",
      "0.9583333333333334\n",
      "\n",
      "(array([0.        , 0.01388889, 0.01388889, 0.05555556, 0.05555556,\n",
      "       1.        ]), array([0. , 0. , 0.5, 0.5, 1. , 1. ]), array([ 5.40697761,  4.40697761,  3.65379568,  3.32363494,  2.36612366,\n",
      "       -4.75684562]))\n",
      "0.9652777777777778\n",
      "\n",
      "(array([0.        , 0.01351351, 1.        ]), array([nan, nan, nan]), array([ 3.86827201,  2.86827201, -5.35887599]))\n",
      "nan\n",
      "\n",
      "(array([0., 0., 1.]), array([0., 1., 1.]), array([ 8.29024676,  7.29024676, -4.51269224]))\n",
      "1.0\n",
      "\n"
     ]
    }
   ],
   "source": [
    "fpr = dict()\n",
    "tpr = dict()\n",
    "roc_auc = dict()\n",
    "for i in range(n_classes):\n",
    "    fpr[i], tpr[i], thresholds = roc_curve(y_bin[:, i], y_score[:, i])\n",
    "    print(f'{roc_curve(y_bin[:, i], y_score[:, i])}\\n')"
   ]
  },
  {
   "cell_type": "code",
   "execution_count": 62,
   "metadata": {},
   "outputs": [],
   "source": [
    "# # roc_curve(y_bin[:, i], y_score[:, i])\n",
    "\n",
    "# for k,v in enumerate(y_score):\n",
    "#     print(y_score[:,k])"
   ]
  },
  {
   "cell_type": "code",
   "execution_count": 60,
   "metadata": {},
   "outputs": [],
   "source": [
    "# for k,n in enumerate(fpr):\n",
    "#     print(fpr[:,k])"
   ]
  },
  {
   "cell_type": "code",
   "execution_count": 61,
   "metadata": {},
   "outputs": [],
   "source": [
    "# for k,n in enumerate(tpr):\n",
    "#     print(tpr[:,k])"
   ]
  },
  {
   "cell_type": "code",
   "execution_count": 55,
   "metadata": {},
   "outputs": [
    {
     "data": {
      "image/png": "[encoded data removed]",
      "text/plain": [
       "<Figure size 432x288 with 1 Axes>"
      ]
     },
     "metadata": {
      "needs_background": "light"
     },
     "output_type": "display_data"
    },
    {
     "data": {
      "image/png": "[encoded data removed]",
      "text/plain": [
       "<Figure size 432x288 with 1 Axes>"
      ]
     },
     "metadata": {
      "needs_background": "light"
     },
     "output_type": "display_data"
    },
    {
     "data": {
      "image/png": "[encoded data removed]",
      "text/plain": [
       "<Figure size 432x288 with 1 Axes>"
      ]
     },
     "metadata": {
      "needs_background": "light"
     },
     "output_type": "display_data"
    }
   ],
   "source": [
    "for i in range(n_classes):\n",
    "    plt.figure()\n",
    "    plt.plot(fpr[i], tpr[i], label='ROC curve (area = %0.2f)' % roc_auc[i])\n",
    "    plt.plot([0, 1], [0, 1], 'k--')\n",
    "    plt.xlim([0.0, 1.0])\n",
    "    plt.ylim([0.0, 1.05])\n",
    "    plt.xlabel('False Positive Rate')\n",
    "    plt.ylabel('True Positive Rate')\n",
    "    plt.title('Receiver operating characteristic example')\n",
    "    plt.legend(loc=\"lower right\")\n",
    "    plt.show()"
   ]
  },
  {
   "cell_type": "code",
   "execution_count": null,
   "metadata": {},
   "outputs": [],
   "source": []
  },
  {
   "cell_type": "code",
   "execution_count": null,
   "metadata": {},
   "outputs": [],
   "source": []
  },
  {
   "cell_type": "code",
   "execution_count": null,
   "metadata": {},
   "outputs": [],
   "source": []
  },
  {
   "cell_type": "code",
   "execution_count": null,
   "metadata": {},
   "outputs": [],
   "source": []
  },
  {
   "cell_type": "code",
   "execution_count": 40,
   "metadata": {},
   "outputs": [
    {
     "data": {
      "text/html": [
       "<div>\n",
       "<style scoped>\n",
       "    .dataframe tbody tr th:only-of-type {\n",
       "        vertical-align: middle;\n",
       "    }\n",
       "\n",
       "    .dataframe tbody tr th {\n",
       "        vertical-align: top;\n",
       "    }\n",
       "\n",
       "    .dataframe thead th {\n",
       "        text-align: right;\n",
       "    }\n",
       "</style>\n",
       "<table border=\"1\" class=\"dataframe\">\n",
       "  <thead>\n",
       "    <tr style=\"text-align: right;\">\n",
       "      <th></th>\n",
       "      <th>0</th>\n",
       "      <th>1</th>\n",
       "      <th>2</th>\n",
       "      <th>3</th>\n",
       "      <th>4</th>\n",
       "      <th>5</th>\n",
       "      <th>6</th>\n",
       "      <th>7</th>\n",
       "      <th>8</th>\n",
       "      <th>9</th>\n",
       "      <th>...</th>\n",
       "      <th>64</th>\n",
       "      <th>65</th>\n",
       "      <th>66</th>\n",
       "      <th>67</th>\n",
       "      <th>68</th>\n",
       "      <th>69</th>\n",
       "      <th>70</th>\n",
       "      <th>71</th>\n",
       "      <th>72</th>\n",
       "      <th>73</th>\n",
       "    </tr>\n",
       "  </thead>\n",
       "  <tbody>\n",
       "    <tr>\n",
       "      <th>0</th>\n",
       "      <td>-26.398235</td>\n",
       "      <td>-5.530790</td>\n",
       "      <td>13.539574</td>\n",
       "      <td>-3.261454</td>\n",
       "      <td>0.091592</td>\n",
       "      <td>1.422952</td>\n",
       "      <td>-2.226075</td>\n",
       "      <td>-2.378404</td>\n",
       "      <td>-0.173590</td>\n",
       "      <td>-0.229678</td>\n",
       "      <td>...</td>\n",
       "      <td>-1.330566</td>\n",
       "      <td>0.760020</td>\n",
       "      <td>0.411290</td>\n",
       "      <td>-3.154955</td>\n",
       "      <td>2.029205</td>\n",
       "      <td>0.371575</td>\n",
       "      <td>0.641591</td>\n",
       "      <td>-0.315040</td>\n",
       "      <td>-1.015912</td>\n",
       "      <td>-0.201491</td>\n",
       "    </tr>\n",
       "    <tr>\n",
       "      <th>1</th>\n",
       "      <td>-23.599232</td>\n",
       "      <td>-8.284542</td>\n",
       "      <td>14.064246</td>\n",
       "      <td>-1.687287</td>\n",
       "      <td>1.326062</td>\n",
       "      <td>4.722244</td>\n",
       "      <td>-1.644201</td>\n",
       "      <td>-2.860067</td>\n",
       "      <td>-2.502393</td>\n",
       "      <td>1.829240</td>\n",
       "      <td>...</td>\n",
       "      <td>-0.465511</td>\n",
       "      <td>1.127581</td>\n",
       "      <td>0.700681</td>\n",
       "      <td>-0.714230</td>\n",
       "      <td>1.360685</td>\n",
       "      <td>-1.327478</td>\n",
       "      <td>0.615863</td>\n",
       "      <td>-1.337370</td>\n",
       "      <td>1.129912</td>\n",
       "      <td>-0.601099</td>\n",
       "    </tr>\n",
       "    <tr>\n",
       "      <th>2</th>\n",
       "      <td>-15.135961</td>\n",
       "      <td>-7.972684</td>\n",
       "      <td>16.700653</td>\n",
       "      <td>-5.440529</td>\n",
       "      <td>3.488567</td>\n",
       "      <td>5.183090</td>\n",
       "      <td>-1.611984</td>\n",
       "      <td>-1.053902</td>\n",
       "      <td>0.417829</td>\n",
       "      <td>-1.267439</td>\n",
       "      <td>...</td>\n",
       "      <td>1.089887</td>\n",
       "      <td>-0.017774</td>\n",
       "      <td>-1.412615</td>\n",
       "      <td>0.434332</td>\n",
       "      <td>0.993812</td>\n",
       "      <td>0.538806</td>\n",
       "      <td>-0.410474</td>\n",
       "      <td>-0.676295</td>\n",
       "      <td>-1.678395</td>\n",
       "      <td>-0.167683</td>\n",
       "    </tr>\n",
       "    <tr>\n",
       "      <th>3</th>\n",
       "      <td>-18.103189</td>\n",
       "      <td>-5.975542</td>\n",
       "      <td>16.094560</td>\n",
       "      <td>-3.843836</td>\n",
       "      <td>2.276547</td>\n",
       "      <td>3.666287</td>\n",
       "      <td>-2.545452</td>\n",
       "      <td>-1.866662</td>\n",
       "      <td>-1.184474</td>\n",
       "      <td>-0.839445</td>\n",
       "      <td>...</td>\n",
       "      <td>0.183808</td>\n",
       "      <td>-1.128415</td>\n",
       "      <td>-1.607940</td>\n",
       "      <td>2.023086</td>\n",
       "      <td>-1.032967</td>\n",
       "      <td>3.239298</td>\n",
       "      <td>0.012201</td>\n",
       "      <td>0.195308</td>\n",
       "      <td>1.198384</td>\n",
       "      <td>-0.608230</td>\n",
       "    </tr>\n",
       "    <tr>\n",
       "      <th>4</th>\n",
       "      <td>-22.822826</td>\n",
       "      <td>-6.600625</td>\n",
       "      <td>9.438649</td>\n",
       "      <td>-4.610983</td>\n",
       "      <td>-1.248990</td>\n",
       "      <td>3.858556</td>\n",
       "      <td>-1.569932</td>\n",
       "      <td>-4.665742</td>\n",
       "      <td>0.619610</td>\n",
       "      <td>-1.132427</td>\n",
       "      <td>...</td>\n",
       "      <td>0.288800</td>\n",
       "      <td>-2.899142</td>\n",
       "      <td>0.410552</td>\n",
       "      <td>-0.469969</td>\n",
       "      <td>0.084135</td>\n",
       "      <td>-0.083044</td>\n",
       "      <td>0.480569</td>\n",
       "      <td>0.621397</td>\n",
       "      <td>-3.289133</td>\n",
       "      <td>2.460916</td>\n",
       "    </tr>\n",
       "  </tbody>\n",
       "</table>\n",
       "<p>5 rows × 74 columns</p>\n",
       "</div>"
      ],
      "text/plain": [
       "          0         1          2         3         4         5         6   \\\n",
       "0 -26.398235 -5.530790  13.539574 -3.261454  0.091592  1.422952 -2.226075   \n",
       "1 -23.599232 -8.284542  14.064246 -1.687287  1.326062  4.722244 -1.644201   \n",
       "2 -15.135961 -7.972684  16.700653 -5.440529  3.488567  5.183090 -1.611984   \n",
       "3 -18.103189 -5.975542  16.094560 -3.843836  2.276547  3.666287 -2.545452   \n",
       "4 -22.822826 -6.600625   9.438649 -4.610983 -1.248990  3.858556 -1.569932   \n",
       "\n",
       "         7         8         9   ...        64        65        66        67  \\\n",
       "0 -2.378404 -0.173590 -0.229678  ... -1.330566  0.760020  0.411290 -3.154955   \n",
       "1 -2.860067 -2.502393  1.829240  ... -0.465511  1.127581  0.700681 -0.714230   \n",
       "2 -1.053902  0.417829 -1.267439  ...  1.089887 -0.017774 -1.412615  0.434332   \n",
       "3 -1.866662 -1.184474 -0.839445  ...  0.183808 -1.128415 -1.607940  2.023086   \n",
       "4 -4.665742  0.619610 -1.132427  ...  0.288800 -2.899142  0.410552 -0.469969   \n",
       "\n",
       "         68        69        70        71        72        73  \n",
       "0  2.029205  0.371575  0.641591 -0.315040 -1.015912 -0.201491  \n",
       "1  1.360685 -1.327478  0.615863 -1.337370  1.129912 -0.601099  \n",
       "2  0.993812  0.538806 -0.410474 -0.676295 -1.678395 -0.167683  \n",
       "3 -1.032967  3.239298  0.012201  0.195308  1.198384 -0.608230  \n",
       "4  0.084135 -0.083044  0.480569  0.621397 -3.289133  2.460916  \n",
       "\n",
       "[5 rows x 74 columns]"
      ]
     },
     "execution_count": 40,
     "metadata": {},
     "output_type": "execute_result"
    }
   ],
   "source": [
    "X_train2_components.head()"
   ]
  },
  {
   "cell_type": "markdown",
   "metadata": {},
   "source": [
    "### Logistic Regression for DS2"
   ]
  },
  {
   "cell_type": "code",
   "execution_count": 41,
   "metadata": {},
   "outputs": [],
   "source": [
    "lr = LogisticRegression(random_state=0)\n",
    "lr.fit(X_train2_components, y_train2)\n",
    "\n",
    "lr_y_pred = lr.predict(X_test2_components)"
   ]
  },
  {
   "cell_type": "code",
   "execution_count": 42,
   "metadata": {
    "jupyter": {
     "source_hidden": true
    }
   },
   "outputs": [],
   "source": [
    "# rfe = RFE(lr, 20)\n",
    "# rfe = rfe.fit(X_train2_components, y_train2.values.ravel())\n",
    "# print(rfe.support_)\n",
    "# print(rfe.ranking_)\n",
    "# print(len(rfe.support_))"
   ]
  },
  {
   "cell_type": "code",
   "execution_count": 43,
   "metadata": {
    "jupyter": {
     "source_hidden": true
    }
   },
   "outputs": [],
   "source": [
    "# cols=[0, 1, 2, 3, 4, 5, 6, 7, 8, 9, 10, 12, 13, 14, 15, 17, 19, 22, 24, 34] \n",
    "# X=X_train2_components[cols]\n",
    "# y=y_train2\n",
    "# lr_X_train = X_train2_components.drop([11,16,18,20,21,23,25,26,27,28,29,30,31,32,33,35,36,37,38,39,40,41,42,43,44,45,46,47,48,49,50,51,52,53,54,55,56,57,58,59,60,61,62,63,64,65,66,67,68,69,70,71,72,73"
   ]
  },
  {
   "cell_type": "code",
   "execution_count": 44,
   "metadata": {},
   "outputs": [],
   "source": [
    "lr.fit(X_train2_components, y_train2)\n",
    "\n",
    "lr_y_pred = lr.predict(X_test2_components)"
   ]
  },
  {
   "cell_type": "code",
   "execution_count": 45,
   "metadata": {},
   "outputs": [
    {
     "name": "stdout",
     "output_type": "stream",
     "text": [
      "Logistic Regression Confusion Matrix\n",
      "\n",
      "[[10  0  0  0  1  0  4  0  0  0  0]\n",
      " [ 0  1  0  0  0  0  0  0  0  0  0]\n",
      " [ 0  0  3  0  0  0  0  1  0  0  0]\n",
      " [ 2  0  0  5  1  0  8  0  2  0  0]\n",
      " [ 0  0  0  0  2  0  0  0  0  0  0]\n",
      " [ 1  1  1  0  1 12  4  1  1  1  2]\n",
      " [ 0  0  0  0  0  0  0  0  0  0  0]\n",
      " [ 0  0  0  0  0  0  0  4  0  1  1]\n",
      " [ 0  1  0  0  0  0  1  0  0  0  0]\n",
      " [ 0  0  0  0  0  0  0  0  0  0  0]\n",
      " [ 0  0  0  0  0  0  0  0  0  0  1]]\n"
     ]
    }
   ],
   "source": [
    "lr_cm = confusion_matrix(y_test2, lr_y_pred)\n",
    "print(f'Logistic Regression Confusion Matrix\\n\\n{lr_cm}')"
   ]
  },
  {
   "cell_type": "code",
   "execution_count": 46,
   "metadata": {},
   "outputs": [
    {
     "name": "stdout",
     "output_type": "stream",
     "text": [
      " Logistic Regression Confusion Matrix\n",
      " ______________________________________\n"
     ]
    },
    {
     "data": {
      "text/html": [
       "<div>\n",
       "<style scoped>\n",
       "    .dataframe tbody tr th:only-of-type {\n",
       "        vertical-align: middle;\n",
       "    }\n",
       "\n",
       "    .dataframe tbody tr th {\n",
       "        vertical-align: top;\n",
       "    }\n",
       "\n",
       "    .dataframe thead th {\n",
       "        text-align: right;\n",
       "    }\n",
       "</style>\n",
       "<table border=\"1\" class=\"dataframe\">\n",
       "  <thead>\n",
       "    <tr style=\"text-align: right;\">\n",
       "      <th>Predicted</th>\n",
       "      <th>1</th>\n",
       "      <th>2</th>\n",
       "      <th>3</th>\n",
       "      <th>4</th>\n",
       "      <th>5</th>\n",
       "      <th>6</th>\n",
       "      <th>7</th>\n",
       "      <th>8</th>\n",
       "      <th>9</th>\n",
       "      <th>10</th>\n",
       "      <th>11</th>\n",
       "      <th>All</th>\n",
       "    </tr>\n",
       "    <tr>\n",
       "      <th>True</th>\n",
       "      <th></th>\n",
       "      <th></th>\n",
       "      <th></th>\n",
       "      <th></th>\n",
       "      <th></th>\n",
       "      <th></th>\n",
       "      <th></th>\n",
       "      <th></th>\n",
       "      <th></th>\n",
       "      <th></th>\n",
       "      <th></th>\n",
       "      <th></th>\n",
       "    </tr>\n",
       "  </thead>\n",
       "  <tbody>\n",
       "    <tr>\n",
       "      <th>1</th>\n",
       "      <td>10</td>\n",
       "      <td>0</td>\n",
       "      <td>0</td>\n",
       "      <td>0</td>\n",
       "      <td>1</td>\n",
       "      <td>0</td>\n",
       "      <td>4</td>\n",
       "      <td>0</td>\n",
       "      <td>0</td>\n",
       "      <td>0</td>\n",
       "      <td>0</td>\n",
       "      <td>15</td>\n",
       "    </tr>\n",
       "    <tr>\n",
       "      <th>2</th>\n",
       "      <td>0</td>\n",
       "      <td>1</td>\n",
       "      <td>0</td>\n",
       "      <td>0</td>\n",
       "      <td>0</td>\n",
       "      <td>0</td>\n",
       "      <td>0</td>\n",
       "      <td>0</td>\n",
       "      <td>0</td>\n",
       "      <td>0</td>\n",
       "      <td>0</td>\n",
       "      <td>1</td>\n",
       "    </tr>\n",
       "    <tr>\n",
       "      <th>3</th>\n",
       "      <td>0</td>\n",
       "      <td>0</td>\n",
       "      <td>3</td>\n",
       "      <td>0</td>\n",
       "      <td>0</td>\n",
       "      <td>0</td>\n",
       "      <td>0</td>\n",
       "      <td>1</td>\n",
       "      <td>0</td>\n",
       "      <td>0</td>\n",
       "      <td>0</td>\n",
       "      <td>4</td>\n",
       "    </tr>\n",
       "    <tr>\n",
       "      <th>4</th>\n",
       "      <td>2</td>\n",
       "      <td>0</td>\n",
       "      <td>0</td>\n",
       "      <td>5</td>\n",
       "      <td>1</td>\n",
       "      <td>0</td>\n",
       "      <td>8</td>\n",
       "      <td>0</td>\n",
       "      <td>2</td>\n",
       "      <td>0</td>\n",
       "      <td>0</td>\n",
       "      <td>18</td>\n",
       "    </tr>\n",
       "    <tr>\n",
       "      <th>5</th>\n",
       "      <td>0</td>\n",
       "      <td>0</td>\n",
       "      <td>0</td>\n",
       "      <td>0</td>\n",
       "      <td>2</td>\n",
       "      <td>0</td>\n",
       "      <td>0</td>\n",
       "      <td>0</td>\n",
       "      <td>0</td>\n",
       "      <td>0</td>\n",
       "      <td>0</td>\n",
       "      <td>2</td>\n",
       "    </tr>\n",
       "    <tr>\n",
       "      <th>6</th>\n",
       "      <td>1</td>\n",
       "      <td>1</td>\n",
       "      <td>1</td>\n",
       "      <td>0</td>\n",
       "      <td>1</td>\n",
       "      <td>12</td>\n",
       "      <td>4</td>\n",
       "      <td>1</td>\n",
       "      <td>1</td>\n",
       "      <td>1</td>\n",
       "      <td>2</td>\n",
       "      <td>25</td>\n",
       "    </tr>\n",
       "    <tr>\n",
       "      <th>8</th>\n",
       "      <td>0</td>\n",
       "      <td>0</td>\n",
       "      <td>0</td>\n",
       "      <td>0</td>\n",
       "      <td>0</td>\n",
       "      <td>0</td>\n",
       "      <td>0</td>\n",
       "      <td>4</td>\n",
       "      <td>0</td>\n",
       "      <td>1</td>\n",
       "      <td>1</td>\n",
       "      <td>6</td>\n",
       "    </tr>\n",
       "    <tr>\n",
       "      <th>9</th>\n",
       "      <td>0</td>\n",
       "      <td>1</td>\n",
       "      <td>0</td>\n",
       "      <td>0</td>\n",
       "      <td>0</td>\n",
       "      <td>0</td>\n",
       "      <td>1</td>\n",
       "      <td>0</td>\n",
       "      <td>0</td>\n",
       "      <td>0</td>\n",
       "      <td>0</td>\n",
       "      <td>2</td>\n",
       "    </tr>\n",
       "    <tr>\n",
       "      <th>11</th>\n",
       "      <td>0</td>\n",
       "      <td>0</td>\n",
       "      <td>0</td>\n",
       "      <td>0</td>\n",
       "      <td>0</td>\n",
       "      <td>0</td>\n",
       "      <td>0</td>\n",
       "      <td>0</td>\n",
       "      <td>0</td>\n",
       "      <td>0</td>\n",
       "      <td>1</td>\n",
       "      <td>1</td>\n",
       "    </tr>\n",
       "    <tr>\n",
       "      <th>All</th>\n",
       "      <td>13</td>\n",
       "      <td>3</td>\n",
       "      <td>4</td>\n",
       "      <td>5</td>\n",
       "      <td>5</td>\n",
       "      <td>12</td>\n",
       "      <td>17</td>\n",
       "      <td>6</td>\n",
       "      <td>3</td>\n",
       "      <td>2</td>\n",
       "      <td>4</td>\n",
       "      <td>74</td>\n",
       "    </tr>\n",
       "  </tbody>\n",
       "</table>\n",
       "</div>"
      ],
      "text/plain": [
       "Predicted   1  2  3  4  5   6   7  8  9  10  11  All\n",
       "True                                                \n",
       "1          10  0  0  0  1   0   4  0  0   0   0   15\n",
       "2           0  1  0  0  0   0   0  0  0   0   0    1\n",
       "3           0  0  3  0  0   0   0  1  0   0   0    4\n",
       "4           2  0  0  5  1   0   8  0  2   0   0   18\n",
       "5           0  0  0  0  2   0   0  0  0   0   0    2\n",
       "6           1  1  1  0  1  12   4  1  1   1   2   25\n",
       "8           0  0  0  0  0   0   0  4  0   1   1    6\n",
       "9           0  1  0  0  0   0   1  0  0   0   0    2\n",
       "11          0  0  0  0  0   0   0  0  0   0   1    1\n",
       "All        13  3  4  5  5  12  17  6  3   2   4   74"
      ]
     },
     "execution_count": 46,
     "metadata": {},
     "output_type": "execute_result"
    }
   ],
   "source": [
    "print(' Logistic Regression Confusion Matrix\\n ______________________________________',)\n",
    "pd.crosstab(y_test2, lr_y_pred, rownames=['True'], colnames=['Predicted'], margins=True)"
   ]
  },
  {
   "cell_type": "code",
   "execution_count": 47,
   "metadata": {},
   "outputs": [
    {
     "name": "stdout",
     "output_type": "stream",
     "text": [
      "             Logistic Regression Classification Report\n",
      "\n",
      "              precision    recall  f1-score   support\n",
      "\n",
      "           1       0.77      0.67      0.71        15\n",
      "           2       0.33      1.00      0.50         1\n",
      "           3       0.75      0.75      0.75         4\n",
      "           4       1.00      0.28      0.43        18\n",
      "           5       0.40      1.00      0.57         2\n",
      "           6       1.00      0.48      0.65        25\n",
      "           7       0.00      0.00      0.00         0\n",
      "           8       0.67      0.67      0.67         6\n",
      "           9       0.00      0.00      0.00         2\n",
      "          10       0.00      0.00      0.00         0\n",
      "          11       0.25      1.00      0.40         1\n",
      "\n",
      "    accuracy                           0.51        74\n",
      "   macro avg       0.47      0.53      0.43        74\n",
      "weighted avg       0.85      0.51      0.59        74\n",
      "\n"
     ]
    }
   ],
   "source": [
    "lr_cr = classification_report(y_test2, lr_y_pred)\n",
    "print(f'             Logistic Regression Classification Report\\n\\n{lr_cr}')"
   ]
  },
  {
   "cell_type": "code",
   "execution_count": 48,
   "metadata": {},
   "outputs": [
    {
     "name": "stdout",
     "output_type": "stream",
     "text": [
      "LR Accuracy: 0.5135135135135135\n"
     ]
    }
   ],
   "source": [
    "print('LR Accuracy:', accuracy_score(y_test2, lr_y_pred))"
   ]
  },
  {
   "cell_type": "markdown",
   "metadata": {},
   "source": [
    "## Random Forest for DS2"
   ]
  },
  {
   "cell_type": "code",
   "execution_count": null,
   "metadata": {},
   "outputs": [],
   "source": []
  },
  {
   "cell_type": "code",
   "execution_count": null,
   "metadata": {},
   "outputs": [],
   "source": []
  },
  {
   "cell_type": "code",
   "execution_count": null,
   "metadata": {},
   "outputs": [],
   "source": []
  },
  {
   "cell_type": "code",
   "execution_count": null,
   "metadata": {},
   "outputs": [],
   "source": []
  },
  {
   "cell_type": "code",
   "execution_count": null,
   "metadata": {},
   "outputs": [],
   "source": []
  },
  {
   "cell_type": "code",
   "execution_count": null,
   "metadata": {},
   "outputs": [],
   "source": []
  },
  {
   "cell_type": "code",
   "execution_count": null,
   "metadata": {},
   "outputs": [],
   "source": []
  },
  {
   "cell_type": "code",
   "execution_count": null,
   "metadata": {},
   "outputs": [],
   "source": []
  },
  {
   "cell_type": "code",
   "execution_count": null,
   "metadata": {},
   "outputs": [],
   "source": []
  },
  {
   "cell_type": "code",
   "execution_count": null,
   "metadata": {},
   "outputs": [],
   "source": []
  },
  {
   "cell_type": "code",
   "execution_count": null,
   "metadata": {},
   "outputs": [],
   "source": []
  },
  {
   "cell_type": "markdown",
   "metadata": {},
   "source": [
    "## SVM for DS2"
   ]
  },
  {
   "cell_type": "markdown",
   "metadata": {},
   "source": [
    "# Dataset 3"
   ]
  },
  {
   "cell_type": "code",
   "execution_count": 49,
   "metadata": {},
   "outputs": [
    {
     "data": {
      "text/html": [
       "<div>\n",
       "<style scoped>\n",
       "    .dataframe tbody tr th:only-of-type {\n",
       "        vertical-align: middle;\n",
       "    }\n",
       "\n",
       "    .dataframe tbody tr th {\n",
       "        vertical-align: top;\n",
       "    }\n",
       "\n",
       "    .dataframe thead th {\n",
       "        text-align: right;\n",
       "    }\n",
       "</style>\n",
       "<table border=\"1\" class=\"dataframe\">\n",
       "  <thead>\n",
       "    <tr style=\"text-align: right;\">\n",
       "      <th></th>\n",
       "      <th>0</th>\n",
       "      <th>1</th>\n",
       "      <th>2</th>\n",
       "      <th>3</th>\n",
       "      <th>4</th>\n",
       "      <th>5</th>\n",
       "      <th>6</th>\n",
       "      <th>7</th>\n",
       "      <th>8</th>\n",
       "      <th>9</th>\n",
       "      <th>10</th>\n",
       "      <th>11</th>\n",
       "      <th>12</th>\n",
       "    </tr>\n",
       "  </thead>\n",
       "  <tbody>\n",
       "    <tr>\n",
       "      <th>0</th>\n",
       "      <td>2</td>\n",
       "      <td>1.0</td>\n",
       "      <td>5</td>\n",
       "      <td>4.0</td>\n",
       "      <td>5.0</td>\n",
       "      <td>5.0</td>\n",
       "      <td>3</td>\n",
       "      <td>3.0</td>\n",
       "      <td>0</td>\n",
       "      <td>1.0</td>\n",
       "      <td>1.0</td>\n",
       "      <td>7.0</td>\n",
       "      <td>1.000000e+99</td>\n",
       "    </tr>\n",
       "    <tr>\n",
       "      <th>1</th>\n",
       "      <td>1</td>\n",
       "      <td>1.0</td>\n",
       "      <td>5</td>\n",
       "      <td>5.0</td>\n",
       "      <td>5.0</td>\n",
       "      <td>5.0</td>\n",
       "      <td>3</td>\n",
       "      <td>5.0</td>\n",
       "      <td>2</td>\n",
       "      <td>1.0</td>\n",
       "      <td>1.0</td>\n",
       "      <td>7.0</td>\n",
       "      <td>1.000000e+00</td>\n",
       "    </tr>\n",
       "    <tr>\n",
       "      <th>2</th>\n",
       "      <td>2</td>\n",
       "      <td>1.0</td>\n",
       "      <td>3</td>\n",
       "      <td>5.0</td>\n",
       "      <td>1.0</td>\n",
       "      <td>5.0</td>\n",
       "      <td>2</td>\n",
       "      <td>3.0</td>\n",
       "      <td>1</td>\n",
       "      <td>2.0</td>\n",
       "      <td>3.0</td>\n",
       "      <td>7.0</td>\n",
       "      <td>1.000000e+00</td>\n",
       "    </tr>\n",
       "    <tr>\n",
       "      <th>3</th>\n",
       "      <td>2</td>\n",
       "      <td>5.0</td>\n",
       "      <td>1</td>\n",
       "      <td>2.0</td>\n",
       "      <td>6.0</td>\n",
       "      <td>5.0</td>\n",
       "      <td>1</td>\n",
       "      <td>4.0</td>\n",
       "      <td>2</td>\n",
       "      <td>3.0</td>\n",
       "      <td>1.0</td>\n",
       "      <td>7.0</td>\n",
       "      <td>1.000000e+00</td>\n",
       "    </tr>\n",
       "    <tr>\n",
       "      <th>4</th>\n",
       "      <td>2</td>\n",
       "      <td>5.0</td>\n",
       "      <td>1</td>\n",
       "      <td>2.0</td>\n",
       "      <td>6.0</td>\n",
       "      <td>3.0</td>\n",
       "      <td>1</td>\n",
       "      <td>4.0</td>\n",
       "      <td>2</td>\n",
       "      <td>3.0</td>\n",
       "      <td>1.0</td>\n",
       "      <td>7.0</td>\n",
       "      <td>1.000000e+00</td>\n",
       "    </tr>\n",
       "  </tbody>\n",
       "</table>\n",
       "</div>"
      ],
      "text/plain": [
       "   0    1   2    3    4    5   6    7   8    9    10   11            12\n",
       "0   2  1.0   5  4.0  5.0  5.0   3  3.0   0  1.0  1.0  7.0  1.000000e+99\n",
       "1   1  1.0   5  5.0  5.0  5.0   3  5.0   2  1.0  1.0  7.0  1.000000e+00\n",
       "2   2  1.0   3  5.0  1.0  5.0   2  3.0   1  2.0  3.0  7.0  1.000000e+00\n",
       "3   2  5.0   1  2.0  6.0  5.0   1  4.0   2  3.0  1.0  7.0  1.000000e+00\n",
       "4   2  5.0   1  2.0  6.0  3.0   1  4.0   2  3.0  1.0  7.0  1.000000e+00"
      ]
     },
     "execution_count": 49,
     "metadata": {},
     "output_type": "execute_result"
    }
   ],
   "source": [
    "# X_train3\n",
    "X_train3.head()"
   ]
  },
  {
   "cell_type": "code",
   "execution_count": 50,
   "metadata": {},
   "outputs": [],
   "source": [
    "n = X_train3[12][0]\n",
    "\n",
    "for i in X_train3.keys():\n",
    "    X_train3[i] = X_train3[i].replace(n, np.nan)"
   ]
  },
  {
   "cell_type": "code",
   "execution_count": 51,
   "metadata": {},
   "outputs": [
    {
     "data": {
      "text/html": [
       "<div>\n",
       "<style scoped>\n",
       "    .dataframe tbody tr th:only-of-type {\n",
       "        vertical-align: middle;\n",
       "    }\n",
       "\n",
       "    .dataframe tbody tr th {\n",
       "        vertical-align: top;\n",
       "    }\n",
       "\n",
       "    .dataframe thead th {\n",
       "        text-align: right;\n",
       "    }\n",
       "</style>\n",
       "<table border=\"1\" class=\"dataframe\">\n",
       "  <thead>\n",
       "    <tr style=\"text-align: right;\">\n",
       "      <th></th>\n",
       "      <th>0</th>\n",
       "      <th>1</th>\n",
       "      <th>2</th>\n",
       "      <th>3</th>\n",
       "      <th>4</th>\n",
       "      <th>5</th>\n",
       "      <th>6</th>\n",
       "      <th>7</th>\n",
       "      <th>8</th>\n",
       "      <th>9</th>\n",
       "      <th>10</th>\n",
       "      <th>11</th>\n",
       "      <th>12</th>\n",
       "    </tr>\n",
       "  </thead>\n",
       "  <tbody>\n",
       "    <tr>\n",
       "      <th>0</th>\n",
       "      <td>2</td>\n",
       "      <td>1.0</td>\n",
       "      <td>5</td>\n",
       "      <td>4.0</td>\n",
       "      <td>5.0</td>\n",
       "      <td>5.0</td>\n",
       "      <td>3</td>\n",
       "      <td>3.0</td>\n",
       "      <td>0</td>\n",
       "      <td>1.0</td>\n",
       "      <td>1.0</td>\n",
       "      <td>7.0</td>\n",
       "      <td>NaN</td>\n",
       "    </tr>\n",
       "    <tr>\n",
       "      <th>1</th>\n",
       "      <td>1</td>\n",
       "      <td>1.0</td>\n",
       "      <td>5</td>\n",
       "      <td>5.0</td>\n",
       "      <td>5.0</td>\n",
       "      <td>5.0</td>\n",
       "      <td>3</td>\n",
       "      <td>5.0</td>\n",
       "      <td>2</td>\n",
       "      <td>1.0</td>\n",
       "      <td>1.0</td>\n",
       "      <td>7.0</td>\n",
       "      <td>1.0</td>\n",
       "    </tr>\n",
       "    <tr>\n",
       "      <th>2</th>\n",
       "      <td>2</td>\n",
       "      <td>1.0</td>\n",
       "      <td>3</td>\n",
       "      <td>5.0</td>\n",
       "      <td>1.0</td>\n",
       "      <td>5.0</td>\n",
       "      <td>2</td>\n",
       "      <td>3.0</td>\n",
       "      <td>1</td>\n",
       "      <td>2.0</td>\n",
       "      <td>3.0</td>\n",
       "      <td>7.0</td>\n",
       "      <td>1.0</td>\n",
       "    </tr>\n",
       "    <tr>\n",
       "      <th>3</th>\n",
       "      <td>2</td>\n",
       "      <td>5.0</td>\n",
       "      <td>1</td>\n",
       "      <td>2.0</td>\n",
       "      <td>6.0</td>\n",
       "      <td>5.0</td>\n",
       "      <td>1</td>\n",
       "      <td>4.0</td>\n",
       "      <td>2</td>\n",
       "      <td>3.0</td>\n",
       "      <td>1.0</td>\n",
       "      <td>7.0</td>\n",
       "      <td>1.0</td>\n",
       "    </tr>\n",
       "    <tr>\n",
       "      <th>4</th>\n",
       "      <td>2</td>\n",
       "      <td>5.0</td>\n",
       "      <td>1</td>\n",
       "      <td>2.0</td>\n",
       "      <td>6.0</td>\n",
       "      <td>3.0</td>\n",
       "      <td>1</td>\n",
       "      <td>4.0</td>\n",
       "      <td>2</td>\n",
       "      <td>3.0</td>\n",
       "      <td>1.0</td>\n",
       "      <td>7.0</td>\n",
       "      <td>1.0</td>\n",
       "    </tr>\n",
       "  </tbody>\n",
       "</table>\n",
       "</div>"
      ],
      "text/plain": [
       "   0    1   2    3    4    5   6    7   8    9    10   11   12\n",
       "0   2  1.0   5  4.0  5.0  5.0   3  3.0   0  1.0  1.0  7.0  NaN\n",
       "1   1  1.0   5  5.0  5.0  5.0   3  5.0   2  1.0  1.0  7.0  1.0\n",
       "2   2  1.0   3  5.0  1.0  5.0   2  3.0   1  2.0  3.0  7.0  1.0\n",
       "3   2  5.0   1  2.0  6.0  5.0   1  4.0   2  3.0  1.0  7.0  1.0\n",
       "4   2  5.0   1  2.0  6.0  3.0   1  4.0   2  3.0  1.0  7.0  1.0"
      ]
     },
     "execution_count": 51,
     "metadata": {},
     "output_type": "execute_result"
    }
   ],
   "source": [
    "X_train3.head()"
   ]
  },
  {
   "cell_type": "code",
   "execution_count": 53,
   "metadata": {},
   "outputs": [],
   "source": [
    "# X_train3_clean = fast_knn(X_train1.values, k=100)"
   ]
  },
  {
   "cell_type": "code",
   "execution_count": null,
   "metadata": {},
   "outputs": [],
   "source": []
  },
  {
   "cell_type": "code",
   "execution_count": null,
   "metadata": {},
   "outputs": [],
   "source": []
  },
  {
   "cell_type": "code",
   "execution_count": null,
   "metadata": {},
   "outputs": [],
   "source": []
  },
  {
   "cell_type": "code",
   "execution_count": null,
   "metadata": {},
   "outputs": [],
   "source": []
  },
  {
   "cell_type": "code",
   "execution_count": null,
   "metadata": {},
   "outputs": [],
   "source": []
  },
  {
   "cell_type": "code",
   "execution_count": null,
   "metadata": {},
   "outputs": [],
   "source": []
  },
  {
   "cell_type": "code",
   "execution_count": null,
   "metadata": {},
   "outputs": [],
   "source": []
  },
  {
   "cell_type": "code",
   "execution_count": null,
   "metadata": {},
   "outputs": [],
   "source": []
  },
  {
   "cell_type": "code",
   "execution_count": null,
   "metadata": {},
   "outputs": [],
   "source": []
  },
  {
   "cell_type": "code",
   "execution_count": null,
   "metadata": {},
   "outputs": [],
   "source": []
  },
  {
   "cell_type": "code",
   "execution_count": null,
   "metadata": {},
   "outputs": [],
   "source": []
  },
  {
   "cell_type": "code",
   "execution_count": null,
   "metadata": {},
   "outputs": [],
   "source": []
  },
  {
   "cell_type": "code",
   "execution_count": null,
   "metadata": {},
   "outputs": [],
   "source": []
  },
  {
   "cell_type": "code",
   "execution_count": null,
   "metadata": {},
   "outputs": [],
   "source": []
  },
  {
   "cell_type": "code",
   "execution_count": null,
   "metadata": {},
   "outputs": [],
   "source": []
  },
  {
   "cell_type": "code",
   "execution_count": null,
   "metadata": {},
   "outputs": [],
   "source": []
  },
  {
   "cell_type": "code",
   "execution_count": null,
   "metadata": {},
   "outputs": [],
   "source": []
  },
  {
   "cell_type": "code",
   "execution_count": null,
   "metadata": {},
   "outputs": [],
   "source": []
  },
  {
   "cell_type": "code",
   "execution_count": null,
   "metadata": {},
   "outputs": [],
   "source": []
  },
  {
   "cell_type": "code",
   "execution_count": null,
   "metadata": {},
   "outputs": [],
   "source": []
  },
  {
   "cell_type": "code",
   "execution_count": null,
   "metadata": {},
   "outputs": [],
   "source": []
  },
  {
   "cell_type": "code",
   "execution_count": null,
   "metadata": {},
   "outputs": [],
   "source": []
  },
  {
   "cell_type": "code",
   "execution_count": null,
   "metadata": {},
   "outputs": [],
   "source": []
  },
  {
   "cell_type": "code",
   "execution_count": null,
   "metadata": {},
   "outputs": [],
   "source": []
  },
  {
   "cell_type": "code",
   "execution_count": null,
   "metadata": {},
   "outputs": [],
   "source": []
  },
  {
   "cell_type": "code",
   "execution_count": null,
   "metadata": {},
   "outputs": [],
   "source": []
  },
  {
   "cell_type": "code",
   "execution_count": null,
   "metadata": {},
   "outputs": [],
   "source": []
  },
  {
   "cell_type": "code",
   "execution_count": null,
   "metadata": {},
   "outputs": [],
   "source": [
    "# # Logistic Regression\n",
    "# log_reg = LogisticRegression(solver='lbfgs')\n",
    "# log_reg.fit(X_train1, y_train1)"
   ]
  }
 ],
 "metadata": {
  "kernelspec": {
   "display_name": "Python 3",
   "language": "python",
   "name": "python3"
  },
  "language_info": {
   "codemirror_mode": {
    "name": "ipython",
    "version": 3
   },
   "file_extension": ".py",
   "mimetype": "text/x-python",
   "name": "python",
   "nbconvert_exporter": "python",
   "pygments_lexer": "ipython3",
   "version": "3.7.5"
  }
 },
 "nbformat": 4,
 "nbformat_minor": 4
}
