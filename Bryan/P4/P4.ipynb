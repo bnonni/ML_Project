{
 "cells": [
  {
   "cell_type": "markdown",
   "metadata": {},
   "source": [
    "## 4. Time Series Classification & Prediction Deep Learning\n",
    "You are provided with daily historical sales data. The task is to forecast the total amount of products sold in every shop for the test set. Note that the list of shops and products slightly changes every month. Creating a robust model that can handle such situations is the goal.\n",
    "File descriptions\n",
    "* sales_train.csv - the training set. Daily historical data from January 2013 to October 2015.\n",
    "* test.csv - the test set. You need to forecast the sales for these shops and products for November 2015.\n",
    "* sample_submission.csv - a sample submission file in the correct format.\n",
    "* items.csv - supplemental information about the items/products.\n",
    "* item_categories.csv - supplemental information about the items categories.\n",
    "* shops.csv- supplemental information about the shops.\n",
    "\n",
    "#### Hint:\n",
    "* Recommended a hybrid CNN-LSTM model \n",
    "* Dimensionality Reduction\n",
    "    - Use Several Classifiers/ Ensemble Method\n",
    "    - Logistic Regression (with different c values)\n",
    "    - Random Forest (with different estimator values) \n",
    "    - SVM (with different kernels)\n",
    "    - KNN (with k = 1,2,5,10,20)\n",
    "    - K (3,5,10) Fold Cross Validation\n",
    "* Performance Comparison\n",
    "    - Classification Accuracy, Precision, Recall, Sensitivity, Specificity * AUC, ROC Curve\n",
    "    - Confusion Matrix"
   ]
  },
  {
   "cell_type": "code",
   "execution_count": 188,
   "metadata": {},
   "outputs": [],
   "source": [
    "import numpy as np\n",
    "import pandas as pd\n",
    "import os\n",
    "from datetime import datetime\n",
    "\n",
    "# Import specific packages\n",
    "import re\n",
    "from collections import Counter\n",
    "from scipy.sparse import csr_matrix\n",
    "from itertools import compress\n",
    "from sklearn.pipeline import Pipeline\n",
    "from sklearn.metrics import mean_squared_error\n",
    "from sklearn.ensemble import RandomForestRegressor\n",
    "from sklearn.ensemble import ExtraTreesRegressor\n",
    "from sklearn.feature_extraction.text import TfidfVectorizer\n",
    "from sklearn.utils import shuffle\n",
    "from sklearn.preprocessing import LabelEncoder\n",
    "\n",
    "# to make this notebook's output stable across runs\n",
    "np.random.seed(42)\n",
    "\n",
    "# To plot pretty figures\n",
    "%matplotlib inline\n",
    "import matplotlib\n",
    "import matplotlib.pyplot as plt\n",
    "plt.rcParams['axes.labelsize'] = 14\n",
    "plt.rcParams['xtick.labelsize'] = 12\n",
    "plt.rcParams['ytick.labelsize'] = 12"
   ]
  },
  {
   "cell_type": "markdown",
   "metadata": {},
   "source": [
    "# Load data"
   ]
  },
  {
   "cell_type": "code",
   "execution_count": 2,
   "metadata": {},
   "outputs": [],
   "source": [
    "item_cat = pd.read_csv('./data/item_categories.csv')\n",
    "items = pd.read_csv('./data/items.csv')\n",
    "sales_train = pd.read_csv('./data/sales_train.csv')\n",
    "shops = pd.read_csv('./data/shops.csv')\n",
    "test = pd.read_csv('./data/test.csv')"
   ]
  },
  {
   "cell_type": "markdown",
   "metadata": {},
   "source": [
    "# Data wrangling"
   ]
  },
  {
   "cell_type": "markdown",
   "metadata": {},
   "source": [
    "**Merge and flatten dataframe**"
   ]
  },
  {
   "cell_type": "markdown",
   "metadata": {},
   "source": [
    "First of all, let's join the `items` and `item_cat` together."
   ]
  },
  {
   "cell_type": "code",
   "execution_count": 8,
   "metadata": {},
   "outputs": [],
   "source": [
    "items = pd.merge(items, item_cat, how='left', on=['item_category_id'])"
   ]
  },
  {
   "cell_type": "markdown",
   "metadata": {},
   "source": [
    "**Apply tfidf transform on the `item_name`, `item_category_name` and `shop_name`**\n",
    "\n",
    "Let convert a collection of raw documents to a matrix of TF-IDF features using the class `sklearn.feature_extraction.text.TfidfVectorizer`, which is equivalent to `CountVectorizer` followed by `TfidfTransformer`."
   ]
  },
  {
   "cell_type": "code",
   "execution_count": 9,
   "metadata": {},
   "outputs": [],
   "source": [
    "feature_cnt = 25\n",
    "tfidf = TfidfVectorizer(max_features=feature_cnt)\n",
    "item_name = pd.DataFrame(tfidf.fit_transform(items['item_name']).toarray())"
   ]
  },
  {
   "cell_type": "markdown",
   "metadata": {},
   "source": [
    "Let's create a function to merge the items and item_name together."
   ]
  },
  {
   "cell_type": "code",
   "execution_count": 11,
   "metadata": {},
   "outputs": [],
   "source": [
    "def merge_dataframe(df_left, df_right, column_name_prefix):\n",
    "    for column in df_right.columns.values:\n",
    "        col = column_name_prefix + str(column)\n",
    "        df_left[col] = df_right[column]"
   ]
  },
  {
   "cell_type": "code",
   "execution_count": 12,
   "metadata": {},
   "outputs": [],
   "source": [
    "merge_dataframe(items, item_name, 'item_name')"
   ]
  },
  {
   "cell_type": "markdown",
   "metadata": {},
   "source": [
    "Let's do the same transformation to the item_category_name and shop_name"
   ]
  },
  {
   "cell_type": "code",
   "execution_count": 14,
   "metadata": {},
   "outputs": [],
   "source": [
    "feature_cnt = 25\n",
    "tfidf = TfidfVectorizer(max_features=feature_cnt)\n",
    "item_cat_name = pd.DataFrame(tfidf.fit_transform(items['item_category_name']).toarray())\n",
    "\n",
    "merge_dataframe(items, item_cat_name, 'item_cat_name')\n",
    "\n",
    "tfidf = TfidfVectorizer(max_features=feature_cnt)\n",
    "shop_name = pd.DataFrame(tfidf.fit_transform(shops['shop_name']).toarray())\n",
    "\n",
    "merge_dataframe(shops, shop_name, 'shop_name')"
   ]
  },
  {
   "cell_type": "markdown",
   "metadata": {},
   "source": [
    "As we notice that there are some negative item_price and negative item_cnt_day. We will filter out those records."
   ]
  },
  {
   "cell_type": "code",
   "execution_count": 18,
   "metadata": {},
   "outputs": [],
   "source": [
    "sales_train = sales_train[(sales_train['item_price']>0) & (sales_train['item_cnt_day']>0)]"
   ]
  },
  {
   "cell_type": "markdown",
   "metadata": {},
   "source": [
    "**Generate table item_price_latest with the last item_price**"
   ]
  },
  {
   "cell_type": "code",
   "execution_count": 22,
   "metadata": {},
   "outputs": [
    {
     "data": {
      "text/html": [
       "<div>\n",
       "<style scoped>\n",
       "    .dataframe tbody tr th:only-of-type {\n",
       "        vertical-align: middle;\n",
       "    }\n",
       "\n",
       "    .dataframe tbody tr th {\n",
       "        vertical-align: top;\n",
       "    }\n",
       "\n",
       "    .dataframe thead th {\n",
       "        text-align: right;\n",
       "    }\n",
       "</style>\n",
       "<table border=\"1\" class=\"dataframe\">\n",
       "  <thead>\n",
       "    <tr style=\"text-align: right;\">\n",
       "      <th></th>\n",
       "      <th>item_id</th>\n",
       "      <th>shop_id</th>\n",
       "      <th>item_price</th>\n",
       "    </tr>\n",
       "  </thead>\n",
       "  <tbody>\n",
       "    <tr>\n",
       "      <th>0</th>\n",
       "      <td>0</td>\n",
       "      <td>54</td>\n",
       "      <td>58.0</td>\n",
       "    </tr>\n",
       "    <tr>\n",
       "      <th>1</th>\n",
       "      <td>1</td>\n",
       "      <td>55</td>\n",
       "      <td>4490.0</td>\n",
       "    </tr>\n",
       "    <tr>\n",
       "      <th>2</th>\n",
       "      <td>2</td>\n",
       "      <td>54</td>\n",
       "      <td>58.0</td>\n",
       "    </tr>\n",
       "    <tr>\n",
       "      <th>3</th>\n",
       "      <td>3</td>\n",
       "      <td>54</td>\n",
       "      <td>58.0</td>\n",
       "    </tr>\n",
       "    <tr>\n",
       "      <th>4</th>\n",
       "      <td>4</td>\n",
       "      <td>54</td>\n",
       "      <td>58.0</td>\n",
       "    </tr>\n",
       "  </tbody>\n",
       "</table>\n",
       "</div>"
      ],
      "text/plain": [
       "   item_id  shop_id  item_price\n",
       "0        0       54        58.0\n",
       "1        1       55      4490.0\n",
       "2        2       54        58.0\n",
       "3        3       54        58.0\n",
       "4        4       54        58.0"
      ]
     },
     "execution_count": 22,
     "metadata": {},
     "output_type": "execute_result"
    }
   ],
   "source": [
    "item_price_latest = sales_train.sort_values(by=['date'], ascending=False).groupby(['item_id', 'shop_id'], as_index=False)['item_price'].first()#.rename(columns={'item_price': 'item_price'})"
   ]
  },
  {
   "cell_type": "markdown",
   "metadata": {},
   "source": [
    "**Extract date columns to year, month, day ...**"
   ]
  },
  {
   "cell_type": "markdown",
   "metadata": {},
   "source": [
    "Now let's extract the `date` column to: `year`, `month`, `day`, `day_of_year`, `weekday`."
   ]
  },
  {
   "cell_type": "code",
   "execution_count": 23,
   "metadata": {},
   "outputs": [],
   "source": [
    "sales_train['date'] = sales_train['date'].apply(lambda x: datetime.strptime(x, '%d.%m.%Y'))\n",
    "sales_train['year'] = sales_train['date'].apply(lambda x: x.year)\n",
    "sales_train['month'] = sales_train['date'].apply(lambda x: x.month)"
   ]
  },
  {
   "cell_type": "markdown",
   "metadata": {},
   "source": [
    "**Aggregate on month level**"
   ]
  },
  {
   "cell_type": "code",
   "execution_count": 24,
   "metadata": {},
   "outputs": [],
   "source": [
    "sales_train1 = sales_train.groupby(['shop_id', 'date_block_num', 'item_id', 'year', 'month'], as_index=False)['item_cnt_day'].sum().rename(columns={'item_cnt_day':'item_cnt_month'})"
   ]
  },
  {
   "cell_type": "code",
   "execution_count": 25,
   "metadata": {},
   "outputs": [
    {
     "data": {
      "text/html": [
       "<div>\n",
       "<style scoped>\n",
       "    .dataframe tbody tr th:only-of-type {\n",
       "        vertical-align: middle;\n",
       "    }\n",
       "\n",
       "    .dataframe tbody tr th {\n",
       "        vertical-align: top;\n",
       "    }\n",
       "\n",
       "    .dataframe thead th {\n",
       "        text-align: right;\n",
       "    }\n",
       "</style>\n",
       "<table border=\"1\" class=\"dataframe\">\n",
       "  <thead>\n",
       "    <tr style=\"text-align: right;\">\n",
       "      <th></th>\n",
       "      <th>shop_id</th>\n",
       "      <th>date_block_num</th>\n",
       "      <th>item_id</th>\n",
       "      <th>year</th>\n",
       "      <th>month</th>\n",
       "      <th>item_cnt_month</th>\n",
       "    </tr>\n",
       "  </thead>\n",
       "  <tbody>\n",
       "    <tr>\n",
       "      <th>count</th>\n",
       "      <td>1.608226e+06</td>\n",
       "      <td>1.608226e+06</td>\n",
       "      <td>1.608226e+06</td>\n",
       "      <td>1.608226e+06</td>\n",
       "      <td>1.608226e+06</td>\n",
       "      <td>1.608226e+06</td>\n",
       "    </tr>\n",
       "    <tr>\n",
       "      <th>mean</th>\n",
       "      <td>3.280798e+01</td>\n",
       "      <td>1.466502e+01</td>\n",
       "      <td>1.068148e+04</td>\n",
       "      <td>2.013793e+03</td>\n",
       "      <td>6.154981e+00</td>\n",
       "      <td>2.273154e+00</td>\n",
       "    </tr>\n",
       "    <tr>\n",
       "      <th>std</th>\n",
       "      <td>1.653645e+01</td>\n",
       "      <td>9.542384e+00</td>\n",
       "      <td>6.238856e+03</td>\n",
       "      <td>7.773325e-01</td>\n",
       "      <td>3.455207e+00</td>\n",
       "      <td>8.653236e+00</td>\n",
       "    </tr>\n",
       "    <tr>\n",
       "      <th>min</th>\n",
       "      <td>0.000000e+00</td>\n",
       "      <td>0.000000e+00</td>\n",
       "      <td>0.000000e+00</td>\n",
       "      <td>2.013000e+03</td>\n",
       "      <td>1.000000e+00</td>\n",
       "      <td>1.000000e+00</td>\n",
       "    </tr>\n",
       "    <tr>\n",
       "      <th>25%</th>\n",
       "      <td>2.100000e+01</td>\n",
       "      <td>6.000000e+00</td>\n",
       "      <td>5.046000e+03</td>\n",
       "      <td>2.013000e+03</td>\n",
       "      <td>3.000000e+00</td>\n",
       "      <td>1.000000e+00</td>\n",
       "    </tr>\n",
       "    <tr>\n",
       "      <th>50%</th>\n",
       "      <td>3.100000e+01</td>\n",
       "      <td>1.400000e+01</td>\n",
       "      <td>1.049700e+04</td>\n",
       "      <td>2.014000e+03</td>\n",
       "      <td>6.000000e+00</td>\n",
       "      <td>1.000000e+00</td>\n",
       "    </tr>\n",
       "    <tr>\n",
       "      <th>75%</th>\n",
       "      <td>4.700000e+01</td>\n",
       "      <td>2.300000e+01</td>\n",
       "      <td>1.606000e+04</td>\n",
       "      <td>2.014000e+03</td>\n",
       "      <td>9.000000e+00</td>\n",
       "      <td>2.000000e+00</td>\n",
       "    </tr>\n",
       "    <tr>\n",
       "      <th>max</th>\n",
       "      <td>5.900000e+01</td>\n",
       "      <td>3.300000e+01</td>\n",
       "      <td>2.216900e+04</td>\n",
       "      <td>2.015000e+03</td>\n",
       "      <td>1.200000e+01</td>\n",
       "      <td>2.253000e+03</td>\n",
       "    </tr>\n",
       "  </tbody>\n",
       "</table>\n",
       "</div>"
      ],
      "text/plain": [
       "            shop_id  date_block_num       item_id          year         month  \\\n",
       "count  1.608226e+06    1.608226e+06  1.608226e+06  1.608226e+06  1.608226e+06   \n",
       "mean   3.280798e+01    1.466502e+01  1.068148e+04  2.013793e+03  6.154981e+00   \n",
       "std    1.653645e+01    9.542384e+00  6.238856e+03  7.773325e-01  3.455207e+00   \n",
       "min    0.000000e+00    0.000000e+00  0.000000e+00  2.013000e+03  1.000000e+00   \n",
       "25%    2.100000e+01    6.000000e+00  5.046000e+03  2.013000e+03  3.000000e+00   \n",
       "50%    3.100000e+01    1.400000e+01  1.049700e+04  2.014000e+03  6.000000e+00   \n",
       "75%    4.700000e+01    2.300000e+01  1.606000e+04  2.014000e+03  9.000000e+00   \n",
       "max    5.900000e+01    3.300000e+01  2.216900e+04  2.015000e+03  1.200000e+01   \n",
       "\n",
       "       item_cnt_month  \n",
       "count    1.608226e+06  \n",
       "mean     2.273154e+00  \n",
       "std      8.653236e+00  \n",
       "min      1.000000e+00  \n",
       "25%      1.000000e+00  \n",
       "50%      1.000000e+00  \n",
       "75%      2.000000e+00  \n",
       "max      2.253000e+03  "
      ]
     },
     "execution_count": 25,
     "metadata": {},
     "output_type": "execute_result"
    }
   ],
   "source": [
    "sales_train1.describe()"
   ]
  },
  {
   "cell_type": "markdown",
   "metadata": {},
   "source": [
    "The model can be influenced by the outliers. Let's use apply clip to the outliers here, where `item_cnt_month` > (mean + 2std) = 20. "
   ]
  },
  {
   "cell_type": "code",
   "execution_count": 26,
   "metadata": {},
   "outputs": [],
   "source": [
    "sales_train1['item_cnt_month'] = sales_train1['item_cnt_month'].clip(0, 20)"
   ]
  },
  {
   "cell_type": "markdown",
   "metadata": {},
   "source": [
    "** Create feature `item_cnt_prev_month`**"
   ]
  },
  {
   "cell_type": "code",
   "execution_count": 27,
   "metadata": {},
   "outputs": [],
   "source": [
    "# sort sales_train1 on ['date_block_num']\n",
    "sales_train1 = sales_train1.sort_values('date_block_num')\n",
    "sales_train1['item_cnt_prev_month'] = sales_train1.groupby(['shop_id', 'item_id'])['item_cnt_month'].shift(1).fillna(0)"
   ]
  },
  {
   "cell_type": "code",
   "execution_count": 42,
   "metadata": {},
   "outputs": [],
   "source": [
    "# for the testing, the item_cnt_prev_month is the last month on the sales_train1\n",
    "test_item_cnt_prev_month = sales_train1[['item_id', 'shop_id', 'item_cnt_month', 'date_block_num']].sort_values('date_block_num', ascending=False).groupby(['item_id', 'shop_id'], as_index=False).first()\n",
    "test_item_cnt_prev_month = test_item_cnt_prev_month[['item_id', 'shop_id', 'item_cnt_month']].rename(columns={'item_cnt_month': 'item_cnt_prev_month'})\n"
   ]
  },
  {
   "cell_type": "markdown",
   "metadata": {},
   "source": [
    "**Create feature `item_cnt_month_mean`**\n",
    "\n",
    "`item_cnt_month_mean`: average of item_cnt_month per shop"
   ]
  },
  {
   "cell_type": "code",
   "execution_count": 35,
   "metadata": {},
   "outputs": [
    {
     "data": {
      "text/html": [
       "<div>\n",
       "<style scoped>\n",
       "    .dataframe tbody tr th:only-of-type {\n",
       "        vertical-align: middle;\n",
       "    }\n",
       "\n",
       "    .dataframe tbody tr th {\n",
       "        vertical-align: top;\n",
       "    }\n",
       "\n",
       "    .dataframe thead th {\n",
       "        text-align: right;\n",
       "    }\n",
       "</style>\n",
       "<table border=\"1\" class=\"dataframe\">\n",
       "  <thead>\n",
       "    <tr style=\"text-align: right;\">\n",
       "      <th></th>\n",
       "      <th>shop_id</th>\n",
       "      <th>date_block_num</th>\n",
       "      <th>item_id</th>\n",
       "      <th>year</th>\n",
       "      <th>month</th>\n",
       "      <th>item_cnt_month</th>\n",
       "      <th>item_cnt_prev_month</th>\n",
       "      <th>item_cnt_month_mean</th>\n",
       "    </tr>\n",
       "  </thead>\n",
       "  <tbody>\n",
       "    <tr>\n",
       "      <th>0</th>\n",
       "      <td>0</td>\n",
       "      <td>0</td>\n",
       "      <td>32</td>\n",
       "      <td>2013</td>\n",
       "      <td>1</td>\n",
       "      <td>6.0</td>\n",
       "      <td>0.0</td>\n",
       "      <td>8.0</td>\n",
       "    </tr>\n",
       "    <tr>\n",
       "      <th>1</th>\n",
       "      <td>37</td>\n",
       "      <td>0</td>\n",
       "      <td>18636</td>\n",
       "      <td>2013</td>\n",
       "      <td>1</td>\n",
       "      <td>1.0</td>\n",
       "      <td>0.0</td>\n",
       "      <td>1.0</td>\n",
       "    </tr>\n",
       "    <tr>\n",
       "      <th>2</th>\n",
       "      <td>37</td>\n",
       "      <td>0</td>\n",
       "      <td>18610</td>\n",
       "      <td>2013</td>\n",
       "      <td>1</td>\n",
       "      <td>1.0</td>\n",
       "      <td>0.0</td>\n",
       "      <td>1.0</td>\n",
       "    </tr>\n",
       "    <tr>\n",
       "      <th>3</th>\n",
       "      <td>37</td>\n",
       "      <td>0</td>\n",
       "      <td>18581</td>\n",
       "      <td>2013</td>\n",
       "      <td>1</td>\n",
       "      <td>1.0</td>\n",
       "      <td>0.0</td>\n",
       "      <td>1.0</td>\n",
       "    </tr>\n",
       "    <tr>\n",
       "      <th>4</th>\n",
       "      <td>37</td>\n",
       "      <td>0</td>\n",
       "      <td>18580</td>\n",
       "      <td>2013</td>\n",
       "      <td>1</td>\n",
       "      <td>1.0</td>\n",
       "      <td>0.0</td>\n",
       "      <td>1.0</td>\n",
       "    </tr>\n",
       "  </tbody>\n",
       "</table>\n",
       "</div>"
      ],
      "text/plain": [
       "   shop_id  date_block_num  item_id  year  month  item_cnt_month  \\\n",
       "0        0               0       32  2013      1             6.0   \n",
       "1       37               0    18636  2013      1             1.0   \n",
       "2       37               0    18610  2013      1             1.0   \n",
       "3       37               0    18581  2013      1             1.0   \n",
       "4       37               0    18580  2013      1             1.0   \n",
       "\n",
       "   item_cnt_prev_month  item_cnt_month_mean  \n",
       "0                  0.0                  8.0  \n",
       "1                  0.0                  1.0  \n",
       "2                  0.0                  1.0  \n",
       "3                  0.0                  1.0  \n",
       "4                  0.0                  1.0  "
      ]
     },
     "execution_count": 35,
     "metadata": {},
     "output_type": "execute_result"
    }
   ],
   "source": [
    "# Exclude the date_block_num ==33\n",
    "item_month_mean = sales_train1[sales_train1['date_block_num']!=33].groupby(['item_id', 'shop_id'], as_index=False)['item_cnt_month'].mean().rename(columns={'item_cnt_month': 'item_cnt_month_mean'})\n",
    "sales_train1 = sales_train1.merge(item_month_mean, how='left', on=['item_id', 'shop_id'])\n",
    "sales_train1.head()"
   ]
  },
  {
   "cell_type": "code",
   "execution_count": 36,
   "metadata": {},
   "outputs": [
    {
     "data": {
      "text/html": [
       "<div>\n",
       "<style scoped>\n",
       "    .dataframe tbody tr th:only-of-type {\n",
       "        vertical-align: middle;\n",
       "    }\n",
       "\n",
       "    .dataframe tbody tr th {\n",
       "        vertical-align: top;\n",
       "    }\n",
       "\n",
       "    .dataframe thead th {\n",
       "        text-align: right;\n",
       "    }\n",
       "</style>\n",
       "<table border=\"1\" class=\"dataframe\">\n",
       "  <thead>\n",
       "    <tr style=\"text-align: right;\">\n",
       "      <th></th>\n",
       "      <th>item_id</th>\n",
       "      <th>shop_id</th>\n",
       "      <th>item_cnt_month_mean</th>\n",
       "    </tr>\n",
       "  </thead>\n",
       "  <tbody>\n",
       "    <tr>\n",
       "      <th>0</th>\n",
       "      <td>0</td>\n",
       "      <td>54</td>\n",
       "      <td>1.0</td>\n",
       "    </tr>\n",
       "    <tr>\n",
       "      <th>1</th>\n",
       "      <td>1</td>\n",
       "      <td>55</td>\n",
       "      <td>1.2</td>\n",
       "    </tr>\n",
       "    <tr>\n",
       "      <th>2</th>\n",
       "      <td>2</td>\n",
       "      <td>54</td>\n",
       "      <td>1.0</td>\n",
       "    </tr>\n",
       "    <tr>\n",
       "      <th>3</th>\n",
       "      <td>3</td>\n",
       "      <td>54</td>\n",
       "      <td>1.0</td>\n",
       "    </tr>\n",
       "    <tr>\n",
       "      <th>4</th>\n",
       "      <td>4</td>\n",
       "      <td>54</td>\n",
       "      <td>1.0</td>\n",
       "    </tr>\n",
       "  </tbody>\n",
       "</table>\n",
       "</div>"
      ],
      "text/plain": [
       "   item_id  shop_id  item_cnt_month_mean\n",
       "0        0       54                  1.0\n",
       "1        1       55                  1.2\n",
       "2        2       54                  1.0\n",
       "3        3       54                  1.0\n",
       "4        4       54                  1.0"
      ]
     },
     "execution_count": 36,
     "metadata": {},
     "output_type": "execute_result"
    }
   ],
   "source": [
    "# For test data, we can actually use the date_block_num ==33\n",
    "test_item_month_mean = sales_train1.groupby(['item_id', 'shop_id'], as_index=False)['item_cnt_month'].mean().rename(columns={'item_cnt_month': 'item_cnt_month_mean'})\n",
    "test_item_month_mean.head()"
   ]
  },
  {
   "cell_type": "markdown",
   "metadata": {},
   "source": [
    "**Generate table item_price_avg for each shop and month**\n",
    "\n",
    "As we need to predict the sales on month level, let's also aggregate the item_price on month level."
   ]
  },
  {
   "cell_type": "code",
   "execution_count": 37,
   "metadata": {},
   "outputs": [
    {
     "data": {
      "text/html": [
       "<div>\n",
       "<style scoped>\n",
       "    .dataframe tbody tr th:only-of-type {\n",
       "        vertical-align: middle;\n",
       "    }\n",
       "\n",
       "    .dataframe tbody tr th {\n",
       "        vertical-align: top;\n",
       "    }\n",
       "\n",
       "    .dataframe thead th {\n",
       "        text-align: right;\n",
       "    }\n",
       "</style>\n",
       "<table border=\"1\" class=\"dataframe\">\n",
       "  <thead>\n",
       "    <tr style=\"text-align: right;\">\n",
       "      <th></th>\n",
       "      <th>item_id</th>\n",
       "      <th>shop_id</th>\n",
       "      <th>year</th>\n",
       "      <th>month</th>\n",
       "      <th>item_price</th>\n",
       "    </tr>\n",
       "  </thead>\n",
       "  <tbody>\n",
       "    <tr>\n",
       "      <th>0</th>\n",
       "      <td>0</td>\n",
       "      <td>54</td>\n",
       "      <td>2014</td>\n",
       "      <td>9</td>\n",
       "      <td>58.0</td>\n",
       "    </tr>\n",
       "    <tr>\n",
       "      <th>1</th>\n",
       "      <td>1</td>\n",
       "      <td>55</td>\n",
       "      <td>2014</td>\n",
       "      <td>4</td>\n",
       "      <td>4490.0</td>\n",
       "    </tr>\n",
       "    <tr>\n",
       "      <th>2</th>\n",
       "      <td>1</td>\n",
       "      <td>55</td>\n",
       "      <td>2014</td>\n",
       "      <td>7</td>\n",
       "      <td>4490.0</td>\n",
       "    </tr>\n",
       "    <tr>\n",
       "      <th>3</th>\n",
       "      <td>1</td>\n",
       "      <td>55</td>\n",
       "      <td>2014</td>\n",
       "      <td>8</td>\n",
       "      <td>4490.0</td>\n",
       "    </tr>\n",
       "    <tr>\n",
       "      <th>4</th>\n",
       "      <td>1</td>\n",
       "      <td>55</td>\n",
       "      <td>2014</td>\n",
       "      <td>9</td>\n",
       "      <td>4490.0</td>\n",
       "    </tr>\n",
       "  </tbody>\n",
       "</table>\n",
       "</div>"
      ],
      "text/plain": [
       "   item_id  shop_id  year  month  item_price\n",
       "0        0       54  2014      9        58.0\n",
       "1        1       55  2014      4      4490.0\n",
       "2        1       55  2014      7      4490.0\n",
       "3        1       55  2014      8      4490.0\n",
       "4        1       55  2014      9      4490.0"
      ]
     },
     "execution_count": 37,
     "metadata": {},
     "output_type": "execute_result"
    }
   ],
   "source": [
    "item_price_avg = sales_train.groupby(['item_id', 'shop_id', 'year', 'month'], as_index=False)['item_price'].mean()\n",
    "item_price_avg.head()"
   ]
  },
  {
   "cell_type": "markdown",
   "metadata": {},
   "source": []
  },
  {
   "cell_type": "code",
   "execution_count": null,
   "metadata": {},
   "outputs": [],
   "source": [
    "\n",
    "    "
   ]
  },
  {
   "cell_type": "markdown",
   "metadata": {},
   "source": [
    "**Create training data**"
   ]
  },
  {
   "cell_type": "code",
   "execution_count": 101,
   "metadata": {},
   "outputs": [],
   "source": [
    "sales_train2 = pd.merge(sales_train1, item_price_avg, how='left', on=['shop_id','item_id','year','month'])\n",
    "sales_train3 = pd.merge(sales_train2, items, how='left', on=['item_id'])\n",
    "sales_train4 = pd.merge(sales_train3, shops, how='left', on=['shop_id'])\n",
    "train = sales_train4"
   ]
  },
  {
   "cell_type": "markdown",
   "metadata": {},
   "source": [
    "**Create test data**"
   ]
  },
  {
   "cell_type": "code",
   "execution_count": 102,
   "metadata": {},
   "outputs": [],
   "source": [
    "test2 = pd.merge(test, item_price_latest, how='left', on=['shop_id','item_id'])\n",
    "test3 = pd.merge(test2, items, how='left', on=['item_id'])\n",
    "test4 = pd.merge(test3, shops, how='left', on=['shop_id'])\n",
    "test5 = pd.merge(test4, test_item_cnt_prev_month[['item_id', 'shop_id', 'item_cnt_prev_month']], how='left', on=['item_id', 'shop_id'])\n",
    "test6 = pd.merge(test5, test_item_month_mean, how='left', on=['item_id', 'shop_id'])\n",
    "df_test = test6"
   ]
  },
  {
   "cell_type": "markdown",
   "metadata": {},
   "source": [
    "**Label encoding**"
   ]
  },
  {
   "cell_type": "code",
   "execution_count": 183,
   "metadata": {},
   "outputs": [],
   "source": [
    "for col in ['shop_id', 'item_id', 'item_category_id']:\n",
    "    train[col] = train[col].astype(str)\n",
    "    df_test[col] = df_test[col].astype(str)"
   ]
  },
  {
   "cell_type": "markdown",
   "metadata": {},
   "source": [
    "let's add the month and year to the df_test as well."
   ]
  },
  {
   "cell_type": "code",
   "execution_count": 48,
   "metadata": {},
   "outputs": [
    {
     "data": {
      "text/html": [
       "<div>\n",
       "<style scoped>\n",
       "    .dataframe tbody tr th:only-of-type {\n",
       "        vertical-align: middle;\n",
       "    }\n",
       "\n",
       "    .dataframe tbody tr th {\n",
       "        vertical-align: top;\n",
       "    }\n",
       "\n",
       "    .dataframe thead th {\n",
       "        text-align: right;\n",
       "    }\n",
       "</style>\n",
       "<table border=\"1\" class=\"dataframe\">\n",
       "  <thead>\n",
       "    <tr style=\"text-align: right;\">\n",
       "      <th></th>\n",
       "      <th>shop_id</th>\n",
       "      <th>date_block_num</th>\n",
       "      <th>item_id</th>\n",
       "      <th>year</th>\n",
       "      <th>month</th>\n",
       "      <th>item_cnt_month</th>\n",
       "      <th>item_cnt_prev_month</th>\n",
       "      <th>item_cnt_month_mean</th>\n",
       "      <th>item_price</th>\n",
       "      <th>item_name</th>\n",
       "      <th>...</th>\n",
       "      <th>shop_name15</th>\n",
       "      <th>shop_name16</th>\n",
       "      <th>shop_name17</th>\n",
       "      <th>shop_name18</th>\n",
       "      <th>shop_name19</th>\n",
       "      <th>shop_name20</th>\n",
       "      <th>shop_name21</th>\n",
       "      <th>shop_name22</th>\n",
       "      <th>shop_name23</th>\n",
       "      <th>shop_name24</th>\n",
       "    </tr>\n",
       "  </thead>\n",
       "  <tbody>\n",
       "    <tr>\n",
       "      <th>1576705</th>\n",
       "      <td>58</td>\n",
       "      <td>33</td>\n",
       "      <td>2252</td>\n",
       "      <td>2015</td>\n",
       "      <td>10</td>\n",
       "      <td>4.0</td>\n",
       "      <td>1.0</td>\n",
       "      <td>2.259259</td>\n",
       "      <td>399.0</td>\n",
       "      <td>Call Of Duty: Modern Warfare 3 [PC, Jewel]</td>\n",
       "      <td>...</td>\n",
       "      <td>0.0</td>\n",
       "      <td>0.0</td>\n",
       "      <td>0.0</td>\n",
       "      <td>0.0</td>\n",
       "      <td>0.0</td>\n",
       "      <td>0.0</td>\n",
       "      <td>0.322815</td>\n",
       "      <td>0.0</td>\n",
       "      <td>0.689588</td>\n",
       "      <td>0.648274</td>\n",
       "    </tr>\n",
       "  </tbody>\n",
       "</table>\n",
       "<p>1 rows × 88 columns</p>\n",
       "</div>"
      ],
      "text/plain": [
       "         shop_id  date_block_num  item_id  year  month  item_cnt_month  \\\n",
       "1576705       58              33     2252  2015     10             4.0   \n",
       "\n",
       "         item_cnt_prev_month  item_cnt_month_mean  item_price  \\\n",
       "1576705                  1.0             2.259259       399.0   \n",
       "\n",
       "                                          item_name     ...       shop_name15  \\\n",
       "1576705  Call Of Duty: Modern Warfare 3 [PC, Jewel]     ...               0.0   \n",
       "\n",
       "        shop_name16  shop_name17  shop_name18  shop_name19  shop_name20  \\\n",
       "1576705         0.0          0.0          0.0          0.0          0.0   \n",
       "\n",
       "         shop_name21  shop_name22  shop_name23  shop_name24  \n",
       "1576705     0.322815          0.0     0.689588     0.648274  \n",
       "\n",
       "[1 rows x 88 columns]"
      ]
     },
     "execution_count": 48,
     "metadata": {},
     "output_type": "execute_result"
    }
   ],
   "source": [
    "train.sort_values(by=['year','month'], ascending=[False, False]).head(1)"
   ]
  },
  {
   "cell_type": "code",
   "execution_count": 103,
   "metadata": {},
   "outputs": [],
   "source": [
    "df_test['year'] = 2015\n",
    "df_test['month'] = 11\n",
    "df_test['date_block_num'] = 34"
   ]
  },
  {
   "cell_type": "markdown",
   "metadata": {},
   "source": [
    "Now we have two dataframe:\n",
    "\n",
    "- **train**: this would be used for training the model. In the next section, we will spilt this to a training and testing set.\n",
    "- **df_test**: this would be the month to be predicted."
   ]
  },
  {
   "cell_type": "markdown",
   "metadata": {},
   "source": [
    "# Train models"
   ]
  },
  {
   "cell_type": "markdown",
   "metadata": {},
   "source": [
    "## Train test split: 'future' months as testing set\n",
    "\n",
    "In terms of how the model is used in reality: we train the model with the historical data, and use it to predict the future. Therefore, a better way to evaluate the model is to leave aside some future months for as test / validation set. For example, if in reality the model should predict the next month's performance, we can leave the lastest month's data as testing_set"
   ]
  },
  {
   "cell_type": "code",
   "execution_count": 104,
   "metadata": {},
   "outputs": [],
   "source": [
    "train = shuffle(train, random_state=42)"
   ]
  },
  {
   "cell_type": "code",
   "execution_count": 199,
   "metadata": {},
   "outputs": [],
   "source": [
    "X = train[[col for col in train.columns.values if col not in ['item_name', 'item_category_name', 'shop_name', 'item_cnt_month', 'item_cnt_prev_month', 'item_cnt_month_mean']]].fillna(0)\n",
    "\n",
    "y = train['item_cnt_month'].fillna(0)\n",
    "\n",
    "list_training = list(X['date_block_num']<33)\n",
    "list_testing = list(X['date_block_num']==33)\n",
    "\n",
    "X_train2 = X[X['date_block_num']<33]\n",
    "y_train2 = y[list_training].fillna(0)\n",
    "X_test2 = X[X['date_block_num']==33]\n",
    "y_test2 = y[list_testing].fillna(0)"
   ]
  },
  {
   "cell_type": "code",
   "execution_count": 200,
   "metadata": {},
   "outputs": [
    {
     "name": "stdout",
     "output_type": "stream",
     "text": [
      "rmse_train: 1.9700191091132222\n",
      "rmse_test: 2.154155708321535\n"
     ]
    }
   ],
   "source": [
    "reg = ExtraTreesRegressor(n_estimators=25, n_jobs=-1, max_depth=15, random_state=42)\n",
    "reg.fit(X_train2, y_train2)\n",
    "\n",
    "y_train_pred = reg.predict(X_train2)\n",
    "y_test_pred = reg.predict(X_test2)\n",
    "\n",
    "rmse_train = np.sqrt(mean_squared_error(y_train2, y_train_pred))\n",
    "rmse_test = np.sqrt(mean_squared_error(y_test2, y_test_pred))\n",
    "\n",
    "print('rmse_train:', rmse_train)\n",
    "print('rmse_test:', rmse_test)"
   ]
  },
  {
   "cell_type": "markdown",
   "metadata": {},
   "source": [
    "Interstingly, the model works better without the feature `item_cnt_prev_month` & `item_cnt_month_mean`."
   ]
  },
  {
   "cell_type": "code",
   "execution_count": 185,
   "metadata": {},
   "outputs": [],
   "source": [
    "rf_reg2 = RandomForestRegressor(n_estimators=25, max_depth=10, random_state=42)\n",
    "rf_reg2.fit(X_train2, y_train2)\n",
    "\n",
    "y_train2_pred = rf_reg2.predict(X_train2)\n",
    "y_test2_pred = rf_reg2.predict(X_test2)"
   ]
  },
  {
   "cell_type": "code",
   "execution_count": 186,
   "metadata": {},
   "outputs": [
    {
     "name": "stdout",
     "output_type": "stream",
     "text": [
      "rmse_train: 1.4905336648206977\n",
      "rmse_test: 2.43961176662877\n"
     ]
    }
   ],
   "source": [
    "rmse_train2 = np.sqrt(mean_squared_error(y_train2, y_train2_pred))\n",
    "rmse_test2 = np.sqrt(mean_squared_error(y_test2, y_test2_pred))\n",
    "\n",
    "print('rmse_train:', rmse_train2)\n",
    "print('rmse_test:', rmse_test2)"
   ]
  },
  {
   "cell_type": "code",
   "execution_count": 205,
   "metadata": {},
   "outputs": [],
   "source": [
    "df_test2 = df_test[[col for col in X_train2.columns.values]].fillna(0)\n",
    "test_pred = reg.predict(df_test2)"
   ]
  },
  {
   "cell_type": "code",
   "execution_count": 206,
   "metadata": {},
   "outputs": [],
   "source": [
    "test_pred = np.round(test_pred,1)"
   ]
  },
  {
   "cell_type": "code",
   "execution_count": 208,
   "metadata": {},
   "outputs": [],
   "source": [
    "test['item_cnt_month'] = test_pred"
   ]
  },
  {
   "cell_type": "code",
   "execution_count": 209,
   "metadata": {},
   "outputs": [],
   "source": [
    "test.to_csv(path_or_buf='./data/result.csv', columns=['ID', 'item_cnt_month'], index=False)"
   ]
  },
  {
   "cell_type": "markdown",
   "metadata": {},
   "source": [
    "## Optional: other methods of handling item_name\n",
    "\n",
    "**Stemming**"
   ]
  },
  {
   "cell_type": "markdown",
   "metadata": {},
   "source": [
    "Let's try some stemming! For this to work, we need the Natural Language Toolkit ([NLTK](http://www.nltk.org/)). "
   ]
  },
  {
   "cell_type": "code",
   "execution_count": null,
   "metadata": {},
   "outputs": [],
   "source": [
    "try:\n",
    "    import nltk\n",
    "    \n",
    "    stemmer = nltk.PorterStemmer()\n",
    "    for word in (\"Computations\", \"Computation\", \"Computing\", \"Computed\", \"Compute\", \"Compulsive\"):\n",
    "        print(word, '=>', stemmer.stem(word))\n",
    "except ImportError:\n",
    "    print(\"Error: stemming requires the NLTK module.\")\n",
    "    stemmer = None"
   ]
  },
  {
   "cell_type": "markdown",
   "metadata": {},
   "source": [
    "**Create custom transformer**\n",
    "\n",
    "- TextToWordCounterTransformer\n",
    "- WordCounterToVector"
   ]
  },
  {
   "cell_type": "markdown",
   "metadata": {},
   "source": [
    "Now let's create a `custom transformer` that we will use to convert sentense to word counters."
   ]
  },
  {
   "cell_type": "code",
   "execution_count": null,
   "metadata": {},
   "outputs": [],
   "source": [
    "from sklearn.base import BaseEstimator, TransformerMixin\n",
    "\n",
    "\n",
    "class TextToWordCounterTransformer(BaseEstimator, TransformerMixin):\n",
    "    \n",
    "    def __init__(self, \n",
    "                 lower_case=True, \n",
    "                 remove_punctuation=True, \n",
    "                 replace_numbers=True, \n",
    "                 stemming=True):\n",
    "        self.lower_case = lower_case\n",
    "        self.remove_punctuation = remove_punctuation\n",
    "        self.replace_numbers = replace_numbers\n",
    "        self.stemming = stemming\n",
    "        \n",
    "    def fit(self, X, y=None):\n",
    "        return self\n",
    "    \n",
    "    def transform(self, X, y=None):\n",
    "        X_transformed = []\n",
    "        for text in X:\n",
    "            if self.lower_case:\n",
    "                text = text.lower()\n",
    "            if self.remove_punctuation:\n",
    "                text = re.sub(r'\\W+', ' ', text)\n",
    "            if self.replace_numbers:\n",
    "                text = re.sub(r'\\d+(?:\\.\\d*(?:[eE]\\d+))?', 'NUMBER', text)\n",
    "            if self.stemming and stemmer is not None:\n",
    "                text = stemmer.stem(text)\n",
    "            word_counts = Counter(text.split())\n",
    "            X_transformed.append(word_counts)\n",
    "        return np.array(X_transformed)"
   ]
  },
  {
   "cell_type": "code",
   "execution_count": null,
   "metadata": {},
   "outputs": [],
   "source": [
    "class WordCounterToVector(BaseEstimator, TransformerMixin):\n",
    "    \n",
    "    def __init__(self, len_vocabulary=25):\n",
    "        self.len_vocabulary = len_vocabulary\n",
    "    def fit(self, X, y=None):\n",
    "        vocabulary_counter = Counter({})\n",
    "        for counter in X:\n",
    "            vocabulary_counter = sum((vocabulary_counter, counter), Counter())\n",
    "        vocabulary_counter = vocabulary_counter.most_common(self.len_vocabulary)\n",
    "        self.vocabulary = {word: index for index, (word, count) in enumerate(vocabulary_counter, start=1)}\n",
    "        return self\n",
    "    def transform(self, X, y=None):\n",
    "        rows = []\n",
    "        cols = []\n",
    "        data = []\n",
    "        for row, word_count in enumerate(X):\n",
    "            for key, val in word_count.items():\n",
    "                rows.append(row)\n",
    "                cols.append(self.vocabulary.get(key,0))\n",
    "                data.append(val)\n",
    "        a = csr_matrix((data, (rows, cols)), shape=(len(X),self.len_vocabulary+1))\n",
    "        return a"
   ]
  },
  {
   "cell_type": "markdown",
   "metadata": {},
   "source": [
    "Now let's create a proprocess pipeline to convert the `item_name` and `item_category_name` into word counter vector."
   ]
  },
  {
   "cell_type": "code",
   "execution_count": null,
   "metadata": {},
   "outputs": [],
   "source": [
    "preprocess_pipeline_item_name = Pipeline((\n",
    "    ('text_to_word_counter', TextToWordCounterTransformer()),\n",
    "    ('word_counter_to_vector', WordCounterToVector())\n",
    "))"
   ]
  },
  {
   "cell_type": "code",
   "execution_count": null,
   "metadata": {},
   "outputs": [],
   "source": [
    "preprocess_pipeline_category_name = Pipeline((\n",
    "    ('text_to_word_counter', TextToWordCounterTransformer()),\n",
    "    ('word_counter_to_vector', WordCounterToVector())\n",
    "))"
   ]
  },
  {
   "cell_type": "markdown",
   "metadata": {},
   "source": []
  }
 ],
 "metadata": {
  "kernelspec": {
   "display_name": "Python 3",
   "language": "python",
   "name": "python3"
  },
  "language_info": {
   "codemirror_mode": {
    "name": "ipython",
    "version": 3
   },
   "file_extension": ".py",
   "mimetype": "text/x-python",
   "name": "python",
   "nbconvert_exporter": "python",
   "pygments_lexer": "ipython3",
   "version": "3.7.5"
  }
 },
 "nbformat": 4,
 "nbformat_minor": 4
}
